{
    "cells": [
        {
            "cell_type": "markdown",
            "metadata": {
                "id": "NMkGzvgUn2v6"
            },
            "source": [
                "# Deep Learning in 3D Vision\n",
                "\n",
                "*Notebook created by [Albert Mosella-Montoro](https://www.linkedin.com/in/albertmosellamontoro) for the [UPC School](https://www.talent.upc.edu/ing/) (2025)*\n",
                "\n",
                "**Duration:** 1 hour and 30 min\n",
                "\n",
                "This notebook provides a hands-on exploration of 3D data processing and neural network implementation using Python. In this notebook, you'll build and experiment with two models\u2014 PointNet and a Graph Neural Network\u2014to analyze and classify a dataset of 40 distinct geometric shapes.\n",
                "\n",
                "**Note:** This notebook assumes prior knowledge of PyTorch Geometric's data structures. If you are not familiar with them, please carefully review this [webpage](https://pytorch-geometric.readthedocs.io/en/latest/get_started/introduction.html), especially the sections on **Data Handling Graphs** and **Mini-Batches**.\n",
                "\n",
                "# Lab Tasks\n",
                "\n",
                "## Core Tasks\n",
                "\n",
                "### 1. 3D Data Manipulation\n",
                "- Explore the Geometric Shapes dataset and learn how to create a point cloud from a 3D shape.\n",
                "\n",
                "- Explore different techniques to create a graph from a point cloud.\n",
                "\n",
                "- Create a PyTorch Geometric Dataset that uses the Geometric Shapes dataset.\n",
                "\n",
                "### 2. PointNet\n",
                "- Implement the different modules of PointNet.\n",
                "\n",
                "- Train the PointNet network using the previously generated dataset.\n",
                "\n",
                "### 3. Graph Based Network\n",
                "- Implement a voxel pooling layer.\n",
                "\n",
                "- Implement a Graph Neural Network architecture.\n",
                "\n",
                "- Train the GNN network using the previously generated dataset.\n",
                "\n",
                "\n",
                "***This notebook can be run on either a GPU or CPU. If you encounter problems with the Colab GPU, you can complete the lab using Colab CPU.***"
            ]
        },
        {
            "cell_type": "markdown",
            "metadata": {
                "id": "3sPZ5idsoe6k"
            },
            "source": [
                "# Dependencies and helper viewer functions"
            ]
        },
        {
            "cell_type": "markdown",
            "metadata": {
                "id": "JtV2LISrNtNb"
            },
            "source": [
                "## Dependencies"
            ]
        },
        {
            "cell_type": "code",
            "execution_count": null,
            "metadata": {},
            "outputs": [],
            "source": [
                "# Install required packages.\n",
                "import os\n",
                "import torch\n",
                "os.environ['TORCH'] = torch.__version__\n",
                "print(torch.__version__)\n",
                "\n",
                "!pip install -q torch-scatter -f https://data.pyg.org/whl/torch-${TORCH}.html\n",
                "!pip install -q torch-sparse -f https://data.pyg.org/whl/torch-${TORCH}.html\n",
                "!pip install -q torch-cluster -f https://data.pyg.org/whl/torch-${TORCH}.html\n",
                "!pip install -q git+https://github.com/pyg-team/pytorch_geometric.git\n",
                "!pip install -q torchmetrics"
            ]
        },
        {
            "cell_type": "markdown",
            "metadata": {
                "id": "fGofn5sSNyJN"
            },
            "source": [
                "## Helper viewer functions"
            ]
        },
        {
            "cell_type": "markdown",
            "metadata": {
                "id": "A2a7EdAQN2LL"
            },
            "source": [
                "`plot_3d_mesh` function\n",
                "\n",
                "This function visualizes a 3D mesh given its vertices and faces.\n",
                "\n",
                "- **`vertices`**: A tensor of shape `(num_vertices, 3)` representing the coordinates of each vertex in 3D space.\n",
                "- **`faces`**: A tensor of shape `(3, num_faces)` representing the indices of the vertices that form each triangular face of the mesh."
            ]
        },
        {
            "cell_type": "markdown",
            "metadata": {
                "id": "drIAuQaQOfhk"
            },
            "source": [
                "`plot_2d_points` function\n",
                "\n",
                "This function visualizes a set of 2D points and optionally the edges connecting them.\n",
                "\n",
                "- **`points`**: A tensor of shape `(num_points, 2)` representing the coordinates of each point in 2D space.\n",
                "- **`edges`** (optional): A tensor of shape `(2, num_edges)` representing the indices of the points that form each edge. If provided, lines are drawn between connected points.\n",
                "- **`highlight_indices`** (optional): A list or tensor of indices of points to be highlighted in the plot. Non-highlighted points are shown in light gray."
            ]
        },
        {
            "cell_type": "markdown",
            "metadata": {
                "id": "QCOQT6XOPHXf"
            },
            "source": [
                "`visualize_batch_graphs` function\n",
                "\n",
                "This function visualizes individual graphs within a PyTorch Geometric `Batch` object.\n",
                "\n",
                "- **`batch`**: A `torch_geometric.data.Batch` object containing multiple graphs.\n",
                "\n",
                "The function iterates through the unique graph indices in the batch, extracts the nodes, positions, and edges for each individual graph, and then uses the `plot_2d_points` function to visualize each graph separately. It also prints information about the number of samples in the batch and the current sample being visualized."
            ]
        },
        {
            "cell_type": "code",
            "execution_count": null,
            "metadata": {},
            "outputs": [],
            "source": [
                "# Helper functions for visualization.\n",
                "%matplotlib inline\n",
                "import matplotlib.pyplot as plt\n",
                "from mpl_toolkits.mplot3d import Axes3D\n",
                "\n",
                "def plot_3d_mesh(vertices, faces):\n",
                "    fig = plt.figure()\n",
                "    ax = fig.add_subplot(111, projection='3d')\n",
                "    ax.set_xticklabels([])\n",
                "    ax.set_yticklabels([])\n",
                "    ax.set_zticklabels([])\n",
                "    ax.plot_trisurf(\n",
                "        vertices[:, 0], vertices[:, 1], vertices[:, 2],\n",
                "        triangles=faces.t(), antialiased=False\n",
                "    )\n",
                "    plt.show()\n",
                "\n",
                "def plot_2d_points(points, edges=None, highlight_indices=None):\n",
                "    fig, ax = plt.subplots(figsize=(4, 4))\n",
                "\n",
                "    if edges is not None:\n",
                "        for src, dst in edges.t().tolist():\n",
                "            src_pt, dst_pt = points[src].tolist(), points[dst].tolist()\n",
                "            ax.plot([src_pt[0], dst_pt[0]], [src_pt[1], dst_pt[1]], linewidth=1, color='black')\n",
                "\n",
                "    if highlight_indices is None:\n",
                "        ax.scatter(points[:, 0], points[:, 1], s=50, zorder=1000)\n",
                "    else:\n",
                "        mask = torch.zeros(points.size(0), dtype=torch.bool)\n",
                "        mask[highlight_indices] = True\n",
                "        ax.scatter(points[~mask, 0], points[~mask, 1], s=50, color='lightgray', zorder=1000)\n",
                "        ax.scatter(points[mask, 0], points[mask, 1], s=50, zorder=1000)\n",
                "\n",
                "    ax.axis('off')\n",
                "    plt.show()\n",
                "\n",
                "\n",
                "def visualize_batch_graphs(batch):\n",
                "    unique_batches = torch.unique(data_sample.batch)\n",
                "    print(f\"Batch contains {len(unique_batches)} samples.\")\n",
                "\n",
                "    for batch_idx in unique_batches:\n",
                "        print(f\"\\nVisualizing sample {batch_idx.item()} from the batch:\")\n",
                "\n",
                "        # Mask for nodes belonging to the current batch graph\n",
                "        node_mask = (data_sample.batch == batch_idx)\n",
                "        node_indices = torch.where(node_mask)[0]\n",
                "        pos = data_sample.pos[node_mask]\n",
                "\n",
                "        # Mask for edges where both nodes belong to the current batch graph\n",
                "        edge_mask = node_mask[data_sample.edge_index[0]] & node_mask[data_sample.edge_index[1]]\n",
                "        edge_index = data_sample.edge_index[:, edge_mask]\n",
                "\n",
                "        # Map global node indices to local indices for the current graph\n",
                "        global_to_local = torch.full((data_sample.num_nodes,), -1, dtype=torch.long, device=pos.device)\n",
                "        global_to_local[node_indices] = torch.arange(pos.size(0), device=pos.device)\n",
                "        local_edge_index = global_to_local[edge_index]\n",
                "\n",
                "        # Plot the current graph\n",
                "        plot_2d_points(pos, local_edge_index)"
            ]
        },
        {
            "cell_type": "markdown",
            "metadata": {
                "id": "kcxU7Qq5omXr"
            },
            "source": [
                "# 3D Data Manipulation\n",
                "\n"
            ]
        },
        {
            "cell_type": "markdown",
            "metadata": {
                "id": "11_zHia_f95u"
            },
            "source": [
                "In this section you will learn how to manipulate 3D data using[ Pytorch Geometric](https://pytorch-geometric.readthedocs.io/en/latest/#). You'll work with the Geometric Shapes dataset, discover how to sample point clouds from the surfaces of 3D objects, and transform these point clouds into graph representations for further analysis."
            ]
        },
        {
            "cell_type": "markdown",
            "metadata": {
                "id": "Aq1taDaoNwHO"
            },
            "source": [
                "## Geometric Shapes dataset"
            ]
        },
        {
            "cell_type": "markdown",
            "metadata": {
                "id": "OJHen0MohbE9"
            },
            "source": [
                "First, let's explore the [Geometric Shapes dataset](https://pytorch-geometric.readthedocs.io/en/latest/generated/torch_geometric.datasets.GeometricShapes.html).\n",
                "\n",
                "Your tasks in this section are:\n",
                "\n",
                "- **Determine the following for the training split:**\n",
                "  - The number of samples\n",
                "  - The number of features\n",
                "  - The number of classes\n",
                "\n",
                "- **For three selected samples from the dataset, retrieve:**\n",
                "  - The number of vertices (nodes)\n",
                "  - The number of faces\n",
                "  - The dimensionality of the 3D coordinates\n",
                "  - The label of each sample\n",
                "\n",
                "Keep in mind that the Geometric Shapes dataset is built upon PyTorch Geometric\u2019s [InMemoryDataset](https://pytorch-geometric.readthedocs.io/en/latest/generated/torch_geometric.data.InMemoryDataset.html), and each sample is represented using the [Data](https://pytorch-geometric.readthedocs.io/en/latest/generated/torch_geometric.data.Data.html) structure. This setup allows for efficient access and manipulation of geometric data throughout your experiments."
            ]
        },
        {
            "cell_type": "code",
            "execution_count": null,
            "metadata": {},
            "outputs": [],
            "source": [
                "from torch_geometric.datasets import GeometricShapes\n",
                "\n",
                "path_to_geometric_shapes = 'data/GeometricShapes'\n",
                "dataset = GeometricShapes(root=path_to_geometric_shapes, train=True)\n",
                "\n",
                "# Load and visualize the first few examples\n",
                "# TODO: print the len of the dataset.\n",
                "print(f'Dataset size: {...}')\n",
                "\n",
                "# TODO: print the len of the dataset.\n",
                "print(f'Number of features: {...}')\n",
                "\n",
                "# TODO: get the number of classes of the dataset\n",
                "print(f'Number of classes: {...}')\n",
                "\n",
                "for i in range(1,4):\n",
                "    data = dataset[i]\n",
                "    print(f'\\nExample {i}:')\n",
                "    # TODO: get the number of vertices (nodes) for the i sample\n",
                "    print(f'  Number of nodes: {...}')\n",
                "\n",
                "    # TODO: get faces for the i sample\n",
                "    print(f'  Mesh faces shape: {...}')\n",
                "\n",
                "    # TODO: get position of the nodes for the i sample\n",
                "    print(f'  Position shape: {...}')\n",
                "\n",
                "    #TODO: get the label for the i sample\n",
                "    print(f'  Label: {...}')\n",
                "\n",
                "\n",
                "    plot_3d_mesh(data.pos, data.face)"
            ]
        },
        {
            "cell_type": "markdown",
            "metadata": {
                "id": "a92f6907"
            },
            "source": [
                "## Surface Mesh Sampling\n",
                "\n",
                "\n"
            ]
        },
        {
            "cell_type": "markdown",
            "metadata": {
                "id": "FNRM4gzwj-03"
            },
            "source": [
                "To convert a 3D mesh into a point cloud, we could use the mesh\u2019s vertices directly; however, this approach does not let us control the number of points and does not ensure that all samples have the same point count. Alternatively, we can uniformly sample points across the mesh surface. PyTorch Geometric offers the [SamplePoints](https://pytorch-geometric.readthedocs.io/en/latest/generated/torch_geometric.transforms.SamplePoints.html?highlight=samplepoints) method for this purpose."
            ]
        },
        {
            "cell_type": "code",
            "execution_count": null,
            "metadata": {},
            "outputs": [],
            "source": [
                "from torch_geometric.transforms import SamplePoints\n",
                "\n",
                "# Define the number of points to sample\n",
                "num_points = 256\n",
                "\n",
                "# Create a SamplePoints transform\n",
                "sample_transform = SamplePoints(num_points)\n",
                "\n",
                "# Generate point clouds from the dataset by applying the transform\n",
                "point_clouds = [sample_transform(data).pos for data in dataset]\n",
                "\n",
                "# Print the shape of the first few point clouds to confirm the conversion\n",
                "print(\"Shape of the first few point clouds:\")\n",
                "for i in range(min(3, len(point_clouds))):\n",
                "    print(f\"Point cloud {i} shape: {point_clouds[i].shape}\")"
            ]
        },
        {
            "cell_type": "code",
            "execution_count": null,
            "metadata": {},
            "outputs": [],
            "source": [
                "# Visualize the original mesh and the sampled point cloud for comparison\n",
                "print(\"Visualizing the original mesh (Example 0):\")\n",
                "# TODO: Plot the original mesh using the provided viewer function.\n",
                "plot_3d_mesh(...)\n",
                "\n",
                "print(\"Visualizing the sampled point cloud (Example 0):\")\n",
                "# TODO: Plot the point cloud in 2D using the provided viewer function.\n",
                "plot_2d_points(...)"
            ]
        },
        {
            "cell_type": "markdown",
            "metadata": {
                "id": "33b2b330"
            },
            "source": [
                "## Generate graphs from Point Clouds"
            ]
        },
        {
            "cell_type": "markdown",
            "metadata": {
                "id": "mIdlQSFVmZHs"
            },
            "source": [
                "To convert a point cloud into a graph, we have two main approaches: kNN and the radius proximity policies. Your task is to convert the previous point clouds into graphs using both methods. The resulting graphs should include self-loops. PyTorch Geometric provides two methods to implement these policies: [kNN](https://pytorch-geometric.readthedocs.io/en/latest/generated/torch_geometric.nn.pool.knn_graph.html#torch_geometric.nn.pool.knn_graph) and [radius](https://pytorch-geometric.readthedocs.io/en/latest/generated/torch_geometric.nn.pool.radius_graph.html?highlight=radius_graph).\n",
                "\n"
            ]
        },
        {
            "cell_type": "markdown",
            "metadata": {
                "id": "1a3df0fc"
            },
            "source": [
                "### kNN Proximity Policy"
            ]
        },
        {
            "cell_type": "code",
            "execution_count": null,
            "metadata": {},
            "outputs": [],
            "source": [
                "from torch_geometric.nn import knn_graph\n",
                "from torch_geometric.data import Data\n",
                "\n",
                "graph_data_list_knn = []\n",
                "for pos in point_clouds:\n",
                "    data = Data(pos=pos)\n",
                "    # TODO: Generate KNN graph with k=6 with self-loops\n",
                "    data.edge_index = knn_graph(...)\n",
                "\n",
                "    graph_data_list_knn.append(data)\n",
                "\n",
                "# Print information about the first few graphs\n",
                "print(\"Information about the first few KNN graphs:\")\n",
                "for i in range(3):\n",
                "    data = graph_data_list_knn[i]\n",
                "    print(f\"\\nKNN Graph {i}:\")\n",
                "    print(f\"  Number of nodes: {data.num_nodes}\")\n",
                "    print(f\"  Number of edges: {data.num_edges}\")\n",
                "    print(f\"  Edge index shape: {data.edge_index.shape}\")\n",
                "\n",
                "# Visualize the first KNN graph\n",
                "print(\"\\nVisualizing the first KNN graph:\")\n",
                "# TODO: visualize the graph using the provided helper viewer function\n",
                "plot_2d_points(...)"
            ]
        },
        {
            "cell_type": "markdown",
            "metadata": {
                "id": "3c9daf0f"
            },
            "source": [
                "### Radius Proximity Policy\n"
            ]
        },
        {
            "cell_type": "code",
            "execution_count": null,
            "metadata": {},
            "outputs": [],
            "source": [
                "from torch_geometric.nn import radius_graph\n",
                "\n",
                "# We need to choose an appropriate radius. A small radius will result in sparse graphs,\n",
                "# while a large radius will result in dense graphs. Let's try a radius of 0.1 as a starting point.\n",
                "radius = 0.1\n",
                "\n",
                "graph_data_list_radius = []\n",
                "for pos in point_clouds:\n",
                "    data = Data(pos=pos)\n",
                "\n",
                "    # TODO: Generate Radius graph with self-loops\n",
                "    data.edge_index = radius_graph(...)\n",
                "\n",
                "    graph_data_list_radius.append(data)\n",
                "\n",
                "# Print information about the first few graphs\n",
                "print(\"Information about the first few Radius graphs:\")\n",
                "for i in range(min(3, len(graph_data_list_radius))):\n",
                "    data = graph_data_list_radius[i]\n",
                "    print(f\"\\nRadius Graph {i}:\")\n",
                "    print(f\"  Number of nodes: {data.num_nodes}\")\n",
                "    print(f\"  Number of edges: {data.num_edges}\")\n",
                "    print(f\"  Edge index shape: {data.edge_index.shape}\")\n",
                "\n",
                "# Visualize the first Radius graph\n",
                "print(\"\\nVisualizing the first Radius graph:\")\n",
                "# TODO: visualize the graph using the provided helper viewer function\n",
                "plot_2d_points(...)"
            ]
        },
        {
            "cell_type": "markdown",
            "metadata": {
                "id": "GwmHZ-xUogdI"
            },
            "source": [
                "**Question:** Which pros and cons do you think those methods have?"
            ]
        },
        {
            "cell_type": "markdown",
            "metadata": {
                "id": "26f6ce7f"
            },
            "source": [
                "## Create a PyTorch Geometric Dataset\n"
            ]
        },
        {
            "cell_type": "markdown",
            "metadata": {
                "id": "c7dc81d6"
            },
            "source": [
                "Next, we'll combine everything we've learned to build a [Dataset](https://pytorch-geometric.readthedocs.io/en/latest/generated/torch_geometric.data.Dataset.html#torch_geometric.data.Dataset) class that loads data from the `GeometricShapesDataset`. This dataset will handle mesh-to-point-cloud conversions and graph constructions depending on user configuration, though **note that the only supported graph construction policy is kNN**. Complete the missing components in the provided class template to implement this functionality.\n",
                "\n",
                "**Note:** The position of the points will be centered and normalzied to the interval (-1, 1), you can use the [NormalizeScale](https://pytorch-geometric.readthedocs.io/en/latest/generated/torch_geometric.transforms.NormalizeScale.html?highlight=normalizescale) transformation."
            ]
        },
        {
            "cell_type": "code",
            "execution_count": null,
            "metadata": {},
            "outputs": [],
            "source": [
                "from torch_geometric.data import Dataset, Data\n",
                "from torch_geometric.transforms import NormalizeScale\n",
                "import os\n",
                "\n",
                "class GeometricShapesDataset(Dataset):\n",
                "    def __init__(self, root, train=True, num_points=1000, k=6, return_type='point_cloud', transform=None, pre_transform=None):\n",
                "        self.num_points = num_points\n",
                "        self.k = k\n",
                "        self.train = train\n",
                "        self.return_type = return_type\n",
                "        self.point_clouds = []\n",
                "        self.knn_graphs = []\n",
                "        # TODO: Initialize the Geometric Shapes dataset\n",
                "        self.data = ...\n",
                "\n",
                "        super().__init__(root, transform, pre_transform)\n",
                "\n",
                "    @property\n",
                "    def raw_file_names(self):\n",
                "        return self.data.raw_file_names\n",
                "\n",
                "    @property\n",
                "    def processed_file_names(self):\n",
                "        split_prefix = 'train_' if self.train else 'val_'\n",
                "        return [f'{split_prefix}point_cloud_{i}.pt' for i in range(len(self.data))] + \\\n",
                "               [f'{split_prefix}knn_graph_{i}.pt' for i in range(len(self.data))]\n",
                "\n",
                "    def download(self):\n",
                "        pass\n",
                "\n",
                "    def process(self):\n",
                "        # TODO: Define the Sample Points transform\n",
                "        sample_transform = ...\n",
                "\n",
                "        # TODO: Define a transformation that centers and normalizes the point cloud to the interval (-1, 1)\n",
                "        normalize_transform = ...\n",
                "\n",
                "        split_prefix = 'train_' if self.train else 'val_'\n",
                "\n",
                "        for i, data in enumerate(self.data):\n",
                "            point_cloud_data = sample_transform(data)\n",
                "            # TODO: Apply the normalize transform\n",
                "            point_cloud_data = ...\n",
                "\n",
                "            torch.save(point_cloud_data, os.path.join(self.processed_dir, f'{split_prefix}point_cloud_{i}.pt'))\n",
                "\n",
                "            # Process KNN graphs\n",
                "            data_pos = Data(pos=point_cloud_data.pos)\n",
                "            #TODO: Create the knn graph that uses the defined K and self-loops\n",
                "            edge_index = ...\n",
                "\n",
                "            knn_graph_data = Data(x=point_cloud_data.pos, pos=point_cloud_data.pos, edge_index=edge_index, y=data.y)\n",
                "\n",
                "            torch.save(knn_graph_data, os.path.join(self.processed_dir, f'{split_prefix}knn_graph_{i}.pt'))\n",
                "\n",
                "\n",
                "    def len(self):\n",
                "        return len(self.data)\n",
                "\n",
                "    def get(self, idx):\n",
                "        split_prefix = 'train_' if self.train else 'val_'\n",
                "        if self.return_type == 'point_cloud':\n",
                "            return torch.load(os.path.join(self.processed_dir, f'{split_prefix}point_cloud_{idx}.pt'), weights_only=False)\n",
                "        elif self.return_type == 'knn_graph':\n",
                "            return torch.load(os.path.join(self.processed_dir, f'{split_prefix}knn_graph_{idx}.pt'), weights_only=False)\n",
                "        else:\n",
                "            raise ValueError(\"return_type must be 'point_cloud' or 'knn_graph'\")\n",
                "\n",
                "# Example usage:\n",
                "# Point Clouds\n",
                "train_point_cloud_dataset = GeometricShapesDataset(root=path_to_geometric_shapes, train=True, return_type='point_cloud')\n",
                "print(f\"\\nCustom Training Dataset size (Point Clouds): {len(train_point_cloud_dataset)}\")\n",
                "print(f\"Example 0 (Train Point Cloud):\\n{train_point_cloud_dataset.get(0)}\")\n",
                "val_point_cloud_dataset = GeometricShapesDataset(root=path_to_geometric_shapes, train=False, return_type='point_cloud')\n",
                "print(f\"\\nCustom Validation Dataset size (Point Clouds): {len(val_point_cloud_dataset)}\")\n",
                "print(f\"Example 0 (Val Point Cloud):\\n{val_point_cloud_dataset.get(0)}\")\n",
                "\n",
                "# knn\n",
                "train_knn_graph_dataset = GeometricShapesDataset(root=path_to_geometric_shapes, train=True, return_type='knn_graph')\n",
                "print(f\"\\nCustom Training Dataset size (KNN Graphs): {len(train_knn_graph_dataset)}\")\n",
                "print(f\"Example 0 (Train KNN Graph):\\n{train_knn_graph_dataset.get(0)}\")\n",
                "val_knn_graph_dataset = GeometricShapesDataset(root=path_to_geometric_shapes, train=False, return_type='knn_graph')\n",
                "print(f\"\\nCustom Validation Dataset size (KNN Graphs): {len(val_knn_graph_dataset)}\")\n",
                "print(f\"Example 0 (Val KNN Graph):\\n{val_knn_graph_dataset.get(0)}\")"
            ]
        },
        {
            "cell_type": "markdown",
            "metadata": {
                "id": "0b683fff"
            },
            "source": [
                "# PointNet"
            ]
        },
        {
            "cell_type": "markdown",
            "metadata": {
                "id": "6TqmBin0Rgej"
            },
            "source": [
                "## Implement PointNet Architecture"
            ]
        },
        {
            "cell_type": "markdown",
            "metadata": {
                "id": "Jl4zdh1tvaIk"
            },
            "source": [
                "In this section, we'll implement the PointNet architecture outlined in the image below to classify 3D shapes from our custom dataset.\n",
                "\n",
                "**Note**: We've adjusted the original architecture; in each MLP, we specify the number of output channels for each hidden layer."
            ]
        },
        {
            "cell_type": "markdown",
            "metadata": {
                "id": "9Fw0qBTpsi6p"
            },
            "source": [
                "![pointnet.png](data:image/png;base64,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)"
            ]
        },
        {
            "cell_type": "markdown",
            "metadata": {
                "id": "d793dd29"
            },
            "source": [
                "### T-Net Implementation\n"
            ]
        },
        {
            "cell_type": "markdown",
            "metadata": {
                "id": "GL6KYZfEv91O"
            },
            "source": [
                "First, we'll implement the T-Net. This network learns affine transformations in both the input space and feature space. Below we've provided the implementation of T-Net."
            ]
        },
        {
            "cell_type": "code",
            "execution_count": null,
            "metadata": {},
            "outputs": [],
            "source": [
                "import torch.nn as nn\n",
                "\n",
                "class TNet(nn.Module):\n",
                "    def __init__(self, k):\n",
                "        super().__init__()\n",
                "        self.k = k\n",
                "\n",
                "        self.conv1 = nn.Conv1d(k, 64, 1)\n",
                "        self.conv2 = nn.Conv1d(64, 128, 1)\n",
                "        self.conv3 = nn.Conv1d(128, 1024, 1)\n",
                "\n",
                "        self.fc1 = nn.Linear(1024, 512)\n",
                "        self.fc2 = nn.Linear(512, 256)\n",
                "        self.fc3 = nn.Linear(256, k*k)\n",
                "\n",
                "        self.bn1 = nn.BatchNorm1d(64)\n",
                "        self.bn2 = nn.BatchNorm1d(128)\n",
                "        self.bn3 = nn.BatchNorm1d(1024)\n",
                "        self.bn4 = nn.BatchNorm1d(512)\n",
                "        self.bn5 = nn.BatchNorm1d(256)\n",
                "\n",
                "    def forward(self, x):\n",
                "\n",
                "        input_dims = x.size(1)\n",
                "        num_points = x.size(2)\n",
                "\n",
                "        x = F.relu(self.bn1(self.conv1(x)), inplace=True)\n",
                "        x = F.relu(self.bn2(self.conv2(x)), inplace=True)\n",
                "        x = F.relu(self.bn3(self.conv3(x)), inplace=True)\n",
                "\n",
                "        # Max pooling over points\n",
                "        x = torch.max(x, 2, keepdim=True)[0]\n",
                "        x = x.view(-1, 1024) # (batch_size, 1024)\n",
                "\n",
                "        x = F.relu(self.bn4(self.fc1(x)), inplace=True)\n",
                "        x = F.relu(self.bn5(self.fc2(x)), inplace=True)\n",
                "        x = self.fc3(x)\n",
                "\n",
                "        # Reshape to (batch_size, k, k) and add identity matrix to ensure orthogonality\n",
                "        iden = torch.eye(input_dims, requires_grad=True).repeat(x.size(0), 1, 1)\n",
                "        if x.is_cuda:\n",
                "            iden = iden.cuda()\n",
                "\n",
                "        x = x.view(-1, input_dims, input_dims) + iden\n",
                "\n",
                "        return x"
            ]
        },
        {
            "cell_type": "markdown",
            "metadata": {
                "id": "44958544"
            },
            "source": [
                "### Backbone implementation\n"
            ]
        },
        {
            "cell_type": "markdown",
            "metadata": {
                "id": "Nd8OcEuPxKxP"
            },
            "source": [
                "With the T-Net implemented, we've assembled all components needed to construct the PointNet architecture. Like many classification networks, it consists of two stages: **feature extraction** (pre-max-pooling) and **classification** (post-max-pooling). For the feature extraction stage, implement the MLP layers using [Conv1d](https://docs.pytorch.org/docs/stable/generated/torch.nn.Conv1d.html) to process individual points efficiently. **Important**: Follow each Conv1d layer with [BatchNorm1d](https://docs.pytorch.org/docs/stable/generated/torch.nn.BatchNorm1d.html#batchnorm1d) and ReLU operations, ideally organized using PyTorch's [Sequential](https://docs.pytorch.org/docs/stable/generated/torch.nn.Sequential.html#sequential) container for cleaner code structure. For the classification stage, we'll use Linear layers followed by BatchNorm1d and ReLU operations. **Important**: The final Linear layer will exclude both batch normalization and activation functions."
            ]
        },
        {
            "cell_type": "code",
            "execution_count": null,
            "metadata": {},
            "outputs": [],
            "source": [
                "import torch.nn.functional as F\n",
                "\n",
                "class PointNet(nn.Module):\n",
                "    def __init__(self, in_channels=3, num_classes=40):\n",
                "        super(PointNet, self).__init__()\n",
                "        self.in_channels = in_channels\n",
                "        self.num_classes = num_classes\n",
                "\n",
                "        # TODO: Define the input_transform T-Net\n",
                "        self.input_transform = ...\n",
                "\n",
                "        # TODO: Define the first set of conv1d\n",
                "        self.conv1 = ...\n",
                "\n",
                "        # TODO: Define the feature_transform T-Net\n",
                "        self.feature_transform = ...\n",
                "\n",
                "        # TODO: Define the second set of conv1d\n",
                "        self.conv2 = ...\n",
                "\n",
                "        # TODO: Define the classification stage\n",
                "        self.classify = ...\n",
                "\n",
                "    def forward(self, x):\n",
                "        # TODO: Apply the input net\n",
                "        trans = ...\n",
                "\n",
                "\n",
                "        x = x.transpose(2, 1)\n",
                "        x = torch.bmm(x, trans)\n",
                "        x = x.transpose(2, 1)\n",
                "\n",
                "        # TODO: Forward the first set of conv layers\n",
                "        x = ...\n",
                "\n",
                "        # TODO: Apply feature T-Net\n",
                "        feature_matrix = ...\n",
                "\n",
                "        # Multiply input the transformation matrix\n",
                "        x = x.transpose(2, 1)\n",
                "        x = torch.bmm(x, feature_matrix)\n",
                "        x = x.transpose(2, 1)\n",
                "\n",
                "        # TODO: Forward the second set of conv layers\n",
                "        x = ...\n",
                "\n",
                "        # Global max pooling across the points\n",
                "        x = torch.max(x, 2, keepdim=True)[0]\n",
                "        x = x.view(-1, 1024) # Reshape to (batch_size, 1024)\n",
                "\n",
                "        # TODO: Forward the classification stage\n",
                "        output = ...\n",
                "\n",
                "        return output\n"
            ]
        },
        {
            "cell_type": "markdown",
            "metadata": {
                "id": "uJ218-WiW9Pw"
            },
            "source": [
                "Next, we'll analyze our model's complexity by counting its trainable parameters."
            ]
        },
        {
            "cell_type": "code",
            "execution_count": null,
            "metadata": {},
            "outputs": [],
            "source": [
                "def count_parameters(model):\n",
                "    num_params = sum(p.numel() for p in model.parameters() if p.requires_grad)\n",
                "    num_params_million = num_params / 1_000_000\n",
                "    print(f\"Number of trainable parameters: {num_params_million:.3f}M\")\n",
                "\n",
                "model = PointNet(in_channels=3, num_classes=40) #Init model\n",
                "\n",
                "count_parameters(model)\n",
                "\n"
            ]
        },
        {
            "cell_type": "markdown",
            "metadata": {
                "id": "H_qG3xE3Zh2K"
            },
            "source": [
                "## Training"
            ]
        },
        {
            "cell_type": "markdown",
            "metadata": {
                "id": "HTtU-vPVTpf3"
            },
            "source": [
                "Now, we will train PointNet using the GeometricShapes dataset."
            ]
        },
        {
            "cell_type": "markdown",
            "metadata": {
                "id": "d9f87421"
            },
            "source": [
                "### Accuracy Metric\n"
            ]
        },
        {
            "cell_type": "markdown",
            "metadata": {
                "id": "fe4b120e"
            },
            "source": [
                "To measure the effectiveness of our classification, we'll use the [Accuracy metric](https://lightning.ai/docs/torchmetrics/stable/classification/accuracy.html). Rather than implementing this metric ourselves, we'll utilize the version provided by torchmetrics. Refer to the [documentation](https://lightning.ai/docs/torchmetrics/stable/pages/quickstart.html) for guidance on how to use it.\n",
                "\n"
            ]
        },
        {
            "cell_type": "code",
            "execution_count": null,
            "metadata": {},
            "outputs": [],
            "source": [
                "import torchmetrics.classification\n",
                "\n",
                "accuracy_metric = torchmetrics.classification.Accuracy(task=\"multiclass\", num_classes=dataset.num_classes)\n"
            ]
        },
        {
            "cell_type": "markdown",
            "metadata": {
                "id": "6da48319"
            },
            "source": [
                "### Training Loop\n"
            ]
        },
        {
            "cell_type": "markdown",
            "metadata": {
                "id": "e7202c31"
            },
            "source": [
                "First, we will implement the training loop for a single epoch. Complete the provided function to enable network training."
            ]
        },
        {
            "cell_type": "code",
            "execution_count": null,
            "metadata": {},
            "outputs": [],
            "source": [
                "def train(model, train_loader, optimizer, criterion, accuracy_metric, device='cuda'):\n",
                "    # TODO: Put model in training mode\n",
                "    ...\n",
                "\n",
                "    total_loss = 0\n",
                "    accuracy_metric.reset()\n",
                "\n",
                "    for data in train_loader:\n",
                "        # TODO: move data to the proper device\n",
                "        data = ...\n",
                "\n",
                "        # TODO: Put to zero the gradients of the optimizer\n",
                "        ...\n",
                "\n",
                "        # Reshape the point cloud data to the dense PointNet input format (batch_size, num_points, num_channels)\n",
                "        # data.pos shape from DataLoader is typically (total_num_points_in_batch, num_channels=3)\n",
                "        # We need to reshape it to (batch_size, num_points, num_channels)\n",
                "        batch_size = data.batch.max().item() + 1 if data.batch.numel() > 0 else 1 # Handle potential empty batch or batch size 1\n",
                "        num_points = data.pos.size(0) // batch_size\n",
                "        point_cloud_input = data.pos.view(batch_size, num_points, data.pos.size(1))\n",
                "        point_cloud_input = point_cloud_input.permute(0, 2, 1)\n",
                "\n",
                "        # TODO: Pass the input data through the model\n",
                "        logits = ...\n",
                "\n",
                "        # TODO: Compute the loss\n",
                "        loss = ...\n",
                "\n",
                "        # TODO: Compute gradients and update weights\n",
                "        ...\n",
                "        ...\n",
                "\n",
                "        total_loss += loss.item()\n",
                "\n",
                "        # Update accuracy metric\n",
                "        preds = logits.argmax(dim=1)\n",
                "        accuracy_metric.update(preds, data.y)\n",
                "\n",
                "    avg_loss = total_loss / len(train_loader)\n",
                "    accuracy = accuracy_metric.compute().item()\n",
                "\n",
                "    return avg_loss, accuracy"
            ]
        },
        {
            "cell_type": "markdown",
            "metadata": {
                "id": "db7ed11b"
            },
            "source": [
                "### Validation Loop"
            ]
        },
        {
            "cell_type": "markdown",
            "metadata": {
                "id": "c3d60450"
            },
            "source": [
                "Now, we will implement the validation loop for a single epoch. Complete the provided function to enable network training."
            ]
        },
        {
            "cell_type": "code",
            "execution_count": null,
            "metadata": {},
            "outputs": [],
            "source": [
                "def validate(model, loader, criterion, accuracy_metric, device='cuda'):\n",
                "    # TODO: Put model in eval mode\n",
                "    ...\n",
                "\n",
                "    total_loss = 0\n",
                "    accuracy_metric.reset()\n",
                "\n",
                "\n",
                "    with torch.no_grad():\n",
                "        for data in loader:\n",
                "            # TODO: move data to the proper device\n",
                "            data = ...\n",
                "\n",
                "            # Reshape the point cloud data to the dense PointNet input format (batch_size, num_points, num_channels)\n",
                "            # data.pos shape from DataLoader is typically (total_num_points_in_batch, num_channels=3)\n",
                "            # We need to reshape it to (batch_size, num_points, num_channels)\n",
                "            batch_size = data.batch.max().item() + 1 if data.batch.numel() > 0 else 1\n",
                "            num_points = data.pos.size(0) // batch_size\n",
                "            point_cloud_input = data.pos.view(batch_size, num_points, data.pos.size(1))\n",
                "            point_cloud_input = point_cloud_input.permute(0, 2, 1)\n",
                "\n",
                "            # TODO: Pass the input data through the model\n",
                "            logits = ...\n",
                "\n",
                "            # TODO: Compute the loss\n",
                "            loss = ...\n",
                "\n",
                "            total_loss += loss.item()\n",
                "\n",
                "            # Update accuracy metric\n",
                "            preds = logits.argmax(dim=1)\n",
                "            accuracy_metric.update(preds, data.y)\n",
                "\n",
                "    avg_loss = total_loss / len(loader)\n",
                "    accuracy = accuracy_metric.compute().item()\n",
                "\n",
                "    return avg_loss, accuracy"
            ]
        },
        {
            "cell_type": "markdown",
            "metadata": {
                "id": "jsXRK4c3Zjof"
            },
            "source": [
                "**Question:** Why is it necessary to reshape the input point cloud from our custom dataset before processing it in the model? Explain that with your own words."
            ]
        },
        {
            "cell_type": "markdown",
            "metadata": {
                "id": "MdCYFSd6SFHo"
            },
            "source": [
                "### Train the network"
            ]
        },
        {
            "cell_type": "markdown",
            "metadata": {
                "id": "Yv0vhqXtaI6Y"
            },
            "source": [
                "Finally, we'll train our model using the `GeometricShapesDataset`, which provides point clouds sampled from the dataset's 3D objects (1000 points per sample). The training configuration includes:\n",
                "- **50 epochs** with a **batch size of 32**\n",
                "- **Adam optimizer** (learning rate=0.001)\n",
                "- **CrossEntropyLoss** as the objective function\n",
                "- **Use the [Dataloader](https://pytorch-geometric.readthedocs.io/en/latest/modules/loader.html#torch_geometric.loader.DataLoader) provided by Pytorch Geometric, which will create a [Batch](https://pytorch-geometric.readthedocs.io/en/latest/generated/torch_geometric.data.Batch.html#torch_geometric.data.Batch) data structure**\n",
                "\n",
                "Implement this setup to train the model"
            ]
        },
        {
            "cell_type": "code",
            "execution_count": null,
            "metadata": {},
            "outputs": [],
            "source": [
                "import torch.optim as optim\n",
                "from torch_geometric.loader import DataLoader\n",
                "\n",
                "num_points = 1000\n",
                "bs = 32\n",
                "lr = 0.001\n",
                "num_epochs = 50\n",
                "device = 'cuda' if torch.cuda.is_available() else 'cpu'\n",
                "\n",
                "#TODO: Define the dataset for the training split\n",
                "train_dataset = ...\n",
                "\n",
                "#TODO: Define the dataset for the validation split\n",
                "val_dataset = ...\n",
                "\n",
                "train_loader = DataLoader(train_dataset, batch_size=32, shuffle=True)\n",
                "val_loader = DataLoader(val_dataset, batch_size=32, shuffle=False)\n",
                "\n",
                "# TODO: Init the model\n",
                "model = ...\n",
                "\n",
                "# TODO: Move model to the proper device\n",
                "model = ...\n",
                "\n",
                "accuracy_metric.to(device)\n",
                "\n",
                "# TODO: Define the loss\n",
                "criterion = ...\n",
                "\n",
                "# TODO: Define the optimizer\n",
                "optimizer = ...\n",
                "\n",
                "\n",
                "train_losses = []\n",
                "train_accuracies = []\n",
                "val_losses = []\n",
                "val_accuracies = []\n",
                "\n",
                "print(\"\\nStarting training...\")\n",
                "for epoch in range(num_epochs):\n",
                "\n",
                "    # TODO: Call the train method\n",
                "    train_loss, train_acc = ...\n",
                "\n",
                "    train_losses.append(train_loss)\n",
                "    train_accuracies.append(train_acc)\n",
                "    # TODO: Call the validation method\n",
                "    val_loss, val_acc = ...\n",
                "\n",
                "    val_losses.append(val_loss)\n",
                "    val_accuracies.append(val_acc)\n",
                "\n",
                "    print(f\"Epoch {epoch+1}/{num_epochs}, Train Loss: {train_loss:.4f}, Train Acc: {train_acc:.4f}, Val Loss: {val_loss:.4f}, Val Acc: {val_acc:.4f}\")\n",
                "\n",
                "print(\"\\nTraining finished.\")"
            ]
        },
        {
            "cell_type": "markdown",
            "metadata": {
                "id": "ed5fb658"
            },
            "source": [
                "**Plot training curves**"
            ]
        },
        {
            "cell_type": "code",
            "execution_count": null,
            "metadata": {},
            "outputs": [],
            "source": [
                "# Plot training and validation loss\n",
                "plt.figure(figsize=(10, 5))\n",
                "plt.plot(train_losses, label='Train Loss')\n",
                "plt.plot(val_losses, label='Validation Loss')\n",
                "plt.xlabel('Epoch')\n",
                "plt.ylabel('Loss')\n",
                "plt.title('Training and Validation Loss')\n",
                "plt.legend()\n",
                "plt.grid(True)\n",
                "plt.show()\n",
                "\n",
                "# Plot training and validation accuracy\n",
                "plt.figure(figsize=(10, 5))\n",
                "plt.plot(train_accuracies, label='Train Accuracy')\n",
                "plt.plot(val_accuracies, label='Validation Accuracy')\n",
                "plt.xlabel('Epoch')\n",
                "plt.ylabel('Accuracy')\n",
                "plt.title('Training and Validation Accuracy')\n",
                "plt.legend()\n",
                "plt.grid(True)\n",
                "plt.show()"
            ]
        },
        {
            "cell_type": "markdown",
            "metadata": {
                "id": "oHT2BSticXdY"
            },
            "source": [
                "**Question:** Did the results match your expectations? Considering the number of parameters in the model and the accuracy achieved, would you consider the model's performance acceptable? Please explain your reasoning."
            ]
        },
        {
            "cell_type": "markdown",
            "metadata": {
                "id": "U2aoeEATQ9ja"
            },
            "source": [
                "# Graph based network with pooling layers\n"
            ]
        },
        {
            "cell_type": "markdown",
            "metadata": {
                "id": "N_M_iiwESURg"
            },
            "source": [
                "## Understanding voxel pooling"
            ]
        },
        {
            "cell_type": "markdown",
            "metadata": {
                "id": "K_6wzcbmdNsH"
            },
            "source": [
                "In this section, we'll explore the voxel pooling algorithm. In 2D networks,  pooling layersa are known to increase the receptive field, speed up computations, and often improve results. To start, we will select a sample from the dataset for our experiments.\n"
            ]
        },
        {
            "cell_type": "code",
            "execution_count": null,
            "metadata": {},
            "outputs": [],
            "source": [
                "# get first sample of the dataset for our experiments\n",
                "dataset_devel = GeometricShapesDataset(root=path_to_geometric_shapes, num_points=num_points, train=True, return_type='knn_graph')\n",
                "loader = DataLoader(dataset_devel, batch_size=1, shuffle=False)\n",
                "data_sample = next(iter(loader))\n",
                "# visualize data\n",
                "plot_2d_points(data_sample.pos, data_sample.edge_index)"
            ]
        },
        {
            "cell_type": "markdown",
            "metadata": {
                "id": "ZUosspP0eA7p"
            },
            "source": [
                "Now, we will implement the `voxel_pooling` function to downsample the input data. This function will take a [`Batch`](https://pytorch-geometric.readthedocs.io/en/latest/generated/torch_geometric.data.Batch.html#torch_geometric.data.Batch) data structure and a specified `voxel_size`, returning the `new_positions` and the updated `new_batch` vector.\n",
                "\n",
                "To implement this function, you will need to use:\n",
                "- The [`voxel_grid`](https://pytorch-geometric.readthedocs.io/en/latest/generated/torch_geometric.nn.pool.voxel_grid.html?highlight=voxel_grid#torch_geometric.nn.pool.voxel_grid) method from PyTorch Geometric to assign each point to a voxel cluster.\n",
                "- The [`scatter`](https://pytorch-scatter.readthedocs.io/en/latest/functions/scatter.html#torch_scatter.scatter) operation from torch_scatter to compute the average position of all nodes within each voxel.\n",
                "\n",
                "**Note:** The `Batch` object includes a `batch` attribute, which is a vector indicating the batch assignment for each node in the graph."
            ]
        },
        {
            "cell_type": "code",
            "execution_count": null,
            "metadata": {},
            "outputs": [],
            "source": [
                "import torch_geometric.nn as nn_pyg\n",
                "from torch_geometric.nn.pool import voxel_grid\n",
                "from torch_geometric.nn.pool.consecutive import consecutive_cluster\n",
                "from torch_geometric.data import Batch\n",
                "from torch_scatter import scatter\n",
                "\n",
                "def voxel_pooling(data, voxel_size):\n",
                "\n",
                "    # TODO: Generate a voxel grid\n",
                "    cluster = ...\n",
                "\n",
                "    cluster, perm = consecutive_cluster(cluster) # returns the cluster with the voxel that contains a point and the mask to filter the batch vector.\n",
                "    # TODO: Using the previously computed clusters, calculate the new positions with the scatter function.\n",
                "    #       Each new position should be the average of all node positions within its corresponding voxel.\n",
                "    new_pos = ...\n",
                "\n",
                "    new_batch = data.batch[perm]\n",
                "\n",
                "\n",
                "    return new_pos, new_batch\n",
                "\n",
                "\n",
                "voxel_size = 0.1\n",
                "\n",
                "pos_pooled, batch_pooled = voxel_pooling(data_sample, voxel_size=voxel_size)\n",
                "\n",
                "\n",
                "print(f\"Original number of points: {data_sample.num_nodes}\")\n",
                "print(f\"Number of points after voxel pooling (average): {pos_pooled.size(0)}\")\n",
                "\n",
                "# Visualize before pooling\n",
                "print(\"Original Point Cloud:\")\n",
                "plot_2d_points(data_sample.pos)\n",
                "\n",
                "# Visualize after pooling (just the new point locations)\n",
                "print(\"Point Cloud after Voxel Pooling (Average):\")\n",
                "plot_2d_points(pos_pooled)"
            ]
        },
        {
            "cell_type": "markdown",
            "metadata": {
                "id": "zStiCzbjgKbM"
            },
            "source": [
                "After performing voxel pooling, we will reconstruct the graph using the **kNN policy** (k=6). Complete the missing parts.\n"
            ]
        },
        {
            "cell_type": "code",
            "execution_count": null,
            "metadata": {},
            "outputs": [],
            "source": [
                "# Create a Data object for the pooled points\n",
                "pooled_data = Data(pos=pos_pooled, batch=batch_pooled)\n",
                "\n",
                "k_knn = 6\n",
                "# TODO: Generate KNN graph on the pooled points\n",
                "edge_index_pooled = ...\n",
                "\n",
                "# Add the new edge index to the pooled data object\n",
                "pooled_data.edge_index = edge_index_pooled\n",
                "\n",
                "print(f\"\\nNumber of nodes in the pooled graph: {pooled_data.num_nodes}\")\n",
                "print(f\"Number of edges in the pooled graph: {pooled_data.num_edges}\")\n",
                "print(f\"Edge index shape of the pooled graph: {pooled_data.edge_index.shape}\")\n",
                "\n",
                "# Visualize the pooled graph\n",
                "print(\"\\nVisualizing the original KNN graph:\")\n",
                "plot_2d_points(data_sample.pos, data_sample.edge_index)\n",
                "\n",
                "print(\"\\nVisualizing the pooled KNN graph:\")\n",
                "plot_2d_points(pooled_data.pos, pooled_data.edge_index)"
            ]
        },
        {
            "cell_type": "markdown",
            "metadata": {
                "id": "YV0hhzlYSfu8"
            },
            "source": [
                "## Define Voxel Pooling Layer"
            ]
        },
        {
            "cell_type": "markdown",
            "metadata": {
                "id": "GYSoRcnYhC_m"
            },
            "source": [
                "Create a PyTorch layer that downsamples an input point cloud and reconstructs its graph structure. The layer will:  \n",
                "1. Compute **new positions** as the average of all nodes within the same voxel.  \n",
                "2. Calculate **new features** using either `max` or `average`, depending on user configuration.\n",
                "3. Recompute the graph.\n",
                "\n",
                "**Note:** To compute the pooled features, we need to extend the previous voxel_pooling function. We won't create a new function; instead, we'll apply the required logic within the forward method of our layer."
            ]
        },
        {
            "cell_type": "code",
            "execution_count": null,
            "metadata": {},
            "outputs": [],
            "source": [
                "class VoxelPoolingWithKNN(nn.Module):\n",
                "    def __init__(self, voxel_size, k, pooling_type='avg'):\n",
                "        super().__init__()\n",
                "\n",
                "        self.voxel_size = voxel_size\n",
                "        self.k = k\n",
                "\n",
                "        if pooling_type == 'max':\n",
                "            self.pooling_type = \"max\"\n",
                "        elif pooling_type == 'avg':\n",
                "           self.pooling_type = \"mean\"\n",
                "        else:\n",
                "            raise ValueError(\"pooling_type must be 'avg' or 'max'\")\n",
                "\n",
                "\n",
                "\n",
                "    def forward(self, data):\n",
                "\n",
                "        # TODO: Downsample the point cloud\n",
                "        ...\n",
                "        ...\n",
                "        ...\n",
                "        ...\n",
                "        ...\n",
                "\n",
                "        data.x = new_x\n",
                "        data.pos = new_pos\n",
                "        data.batch = new_batch\n",
                "        # TODO: Generate the graph\n",
                "        data.edge_index = ...\n",
                "\n",
                "        return data\n",
                "\n",
                "\n",
                "\n",
                "dataset_devel = GeometricShapesDataset(root=path_to_geometric_shapes, num_points=num_points, train=True, return_type='knn_graph')\n",
                "loader = DataLoader(dataset_devel, batch_size=2, shuffle=False)\n",
                "data_sample = next(iter(loader))\n",
                "print(data_sample)\n",
                "# visualize original data:\n",
                "print(\"\\nOriginal batch visualization\")\n",
                "visualize_batch_graphs(data_sample)\n",
                "\n",
                "voxel_size = 0.1\n",
                "k_knn = 6\n",
                "pooling_layer_avg = VoxelPoolingWithKNN(voxel_size=voxel_size, k=k_knn, pooling_type='avg')\n",
                "\n",
                "pooled_data_avg = pooling_layer_avg(data_sample)\n",
                "\n",
                "\n",
                "print(\"\\nOriginal batch visualization\")\n",
                "visualize_batch_graphs(pooled_data_avg)\n",
                "\n",
                "print(\"\\nInformation about the pooled data:\")\n",
                "print(f\"  Number of nodes: {pooled_data_avg.num_nodes}\")\n",
                "print(f\"  Number of edges: {pooled_data_avg.num_edges}\")\n",
                "print(f\"  Position shape: {pooled_data_avg.pos.shape}\")\n",
                "print(f\"  Feature shape: {pooled_data_avg.x.shape}\")\n",
                "print(f\"  Batch shape: {pooled_data_avg.batch.unique()}\")\n",
                "print(f\"  Edge index shape: {pooled_data_avg.edge_index.shape}\")\n"
            ]
        },
        {
            "cell_type": "markdown",
            "metadata": {
                "id": "1vUy8dWYSo26"
            },
            "source": [
                "## Define GCN Backbone"
            ]
        },
        {
            "cell_type": "markdown",
            "metadata": {
                "id": "1q1w7tPEh5Bt"
            },
            "source": [
                "Now, we have all the pieces to define our Graph Neural Network architecture with pooling layers, which will have a feature extraction section and a classification section.\n",
                "\n",
                "The feature extraction will have **4 convolutional blocks where each convolution will be followed by a BatchNorm1d and a ReLU activation**. The **output channels** for each one of them will be **[16, 32, 128]**. In this architecture, we will use the [GAT](https://pytorch-geometric.readthedocs.io/en/latest/generated/torch_geometric.nn.models.GAT.html?highlight=gat#torch_geometric.nn.models.GAT) implementation from PyTorch Geometric (we will use the default parameters and only modify the output channels). After each convolutional block (excluding the last one), we will have our Pooling Layer. The **voxel size** for each pooling layer will be **[0.1, 0.15, 0.2]**, and the **k** will be the same for all three and will be a hyperparameter of the model.\n",
                "\n",
                "Before the classification layer, we will need a readout layer (global pooling). In this network, we will use the functional [global_max_pool](https://pytorch-geometric.readthedocs.io/en/latest/generated/torch_geometric.nn.pool.global_max_pool.html?highlight=global_max_pool) provided by PyTorch Geometric.\n",
                "\n",
                "The **classification** section will have a **Linear layer** with output channels equal to **64**, followed by a **BatchNorm1d and a ReLU activation, and a final Linear layer with output channels equal to num_classes**.\n",
                "\n",
                "Complete the provided code.\n",
                "\n",
                "\n"
            ]
        },
        {
            "cell_type": "code",
            "execution_count": null,
            "metadata": {},
            "outputs": [],
            "source": [
                "from torch_geometric.nn import global_max_pool\n",
                "from torch_geometric.nn import GATConv\n",
                "\n",
                "class GCN(nn.Module):\n",
                "    def __init__(self, in_channels=3, num_classes=40, k=6):\n",
                "        super().__init__()\n",
                "\n",
                "        self.relu = nn.ReLU(inplace=True) # we will reuse the same activation for all the layers\n",
                "\n",
                "\n",
                "        # TODO: Define the feat extraction layers (we cannot use the sequential container from pytorch)\n",
                "        ...\n",
                "\n",
                "        # TODO: Define the classifier\n",
                "        self.clasifier = ...\n",
                "\n",
                "\n",
                "    def forward(self, data):\n",
                "\n",
                "        # TODO: Forward the feat extraction layers\n",
                "        ...\n",
                "        ...\n",
                "        ...\n",
                "        ...\n",
                "        ...\n",
                "        ...\n",
                "        ...\n",
                "\n",
                "        #TODO: Compute the global max pooling\n",
                "        x = ...\n",
                "\n",
                "        x = F.dropout(x, p=0.05, training=self.training)\n",
                "\n",
                "        x = self.clasifier(x)\n",
                "\n",
                "        return x\n",
                "\n",
                "# Instantiate the GCN model\n",
                "gcn_model = GCN(in_channels=3, num_classes=dataset.num_classes)\n",
                "print(gcn_model)\n",
                "\n",
                "# Example forward pass with a batch from the dataset\n",
                "dataset_devel = GeometricShapesDataset(root=path_to_geometric_shapes, num_points=num_points, train=True, return_type='knn_graph')\n",
                "loader = DataLoader(dataset_devel, batch_size=2, shuffle=False)\n",
                "data_sample = next(iter(loader))\n",
                "\n",
                "output_logits = gcn_model(data_sample)\n",
                "print(f\"Output logits shape: {output_logits.shape}\")\n"
            ]
        },
        {
            "cell_type": "markdown",
            "metadata": {
                "id": "hZsMKAnCl1sm"
            },
            "source": [
                "Calculate the total number of trainable parameters by calling the previously defined `count_parameters` function.\n"
            ]
        },
        {
            "cell_type": "code",
            "execution_count": null,
            "metadata": {},
            "outputs": [],
            "source": [
                "# TODO\n",
                "..."
            ]
        },
        {
            "cell_type": "markdown",
            "metadata": {
                "id": "n30kMITfmI2z"
            },
            "source": [
                "**Question:** Is this network larger or smaller than PointNet? Do you expect it to perform better or worse? Explain your reasoning.\n"
            ]
        },
        {
            "cell_type": "markdown",
            "metadata": {
                "id": "OoVA0gnuSxyZ"
            },
            "source": [
                "## Training"
            ]
        },
        {
            "cell_type": "markdown",
            "metadata": {
                "id": "AESqJzr3mjcj"
            },
            "source": [
                "Now, we will train the defined model using the GeometricShapes dataset. As before, we will implement `train` and `validate` functions, which are very similar to the previous versions. Carefully review the code and pay attention to any differences.\n"
            ]
        },
        {
            "cell_type": "markdown",
            "metadata": {
                "id": "pS8WF10NS8jg"
            },
            "source": [
                "### Train Loop"
            ]
        },
        {
            "cell_type": "code",
            "execution_count": null,
            "metadata": {},
            "outputs": [],
            "source": [
                "def train(model, train_loader, optimizer, criterion, accuracy_metric, device=\"cuda\"):\n",
                "    model.to(device)\n",
                "\n",
                "    model.train()\n",
                "    total_loss = 0\n",
                "    accuracy_metric.reset()\n",
                "\n",
                "    for data in train_loader:\n",
                "        data = data.to(device)\n",
                "\n",
                "        optimizer.zero_grad()\n",
                "\n",
                "        logits = model(data)\n",
                "\n",
                "        loss = criterion(logits, data.y)\n",
                "\n",
                "        loss.backward()\n",
                "        optimizer.step()\n",
                "\n",
                "        total_loss += loss.item()\n",
                "\n",
                "        preds = logits.argmax(dim=1)\n",
                "        accuracy_metric.update(preds, data.y)\n",
                "\n",
                "    avg_loss = total_loss / len(train_loader)\n",
                "    accuracy = accuracy_metric.compute().item()\n",
                "\n",
                "    return avg_loss, accuracy"
            ]
        },
        {
            "cell_type": "markdown",
            "metadata": {
                "id": "rMDS4sQhS_HW"
            },
            "source": [
                "### Validation Loop"
            ]
        },
        {
            "cell_type": "code",
            "execution_count": null,
            "metadata": {},
            "outputs": [],
            "source": [
                "def validate(model, loader, criterion, accuracy_metric, device=\"cuda\"):\n",
                "    model.to(device)\n",
                "\n",
                "    model.eval()\n",
                "    total_loss = 0\n",
                "    accuracy_metric.reset()\n",
                "\n",
                "\n",
                "    with torch.no_grad():\n",
                "        for data in loader:\n",
                "            data = data.to(device)\n",
                "\n",
                "            logits = model(data)\n",
                "\n",
                "            loss = criterion(logits, data.y)\n",
                "\n",
                "            total_loss += loss.item()\n",
                "\n",
                "            preds = logits.argmax(dim=1)\n",
                "            accuracy_metric.update(preds, data.y)\n",
                "\n",
                "    avg_loss = total_loss / len(loader)\n",
                "    accuracy = accuracy_metric.compute().item()\n",
                "\n",
                "    return avg_loss, accuracy"
            ]
        },
        {
            "cell_type": "markdown",
            "metadata": {
                "id": "z3N_MZ1-TdBt"
            },
            "source": [
                "### Train the network"
            ]
        },
        {
            "cell_type": "markdown",
            "metadata": {
                "id": "iga_zPaTnAwq"
            },
            "source": [
                "Finally, we'll train our model using the `GeometricShapesDataset`, which provides point clouds sampled from the dataset's 3D objects (1000 points per sample). The training configuration includes:\n",
                "- **50 epochs** with a **batch size of 32**\n",
                "- **Adam optimizer** (learning rate=0.01)\n",
                "- **CrossEntropyLoss** as the objective function\n",
                "- **k=12**\n",
                "\n",
                "Read the code carefully."
            ]
        },
        {
            "cell_type": "code",
            "execution_count": null,
            "metadata": {},
            "outputs": [],
            "source": [
                "num_points = 1000\n",
                "k = 12\n",
                "num_epochs = 50\n",
                "bs = 32\n",
                "lr = 0.01\n",
                "\n",
                "device = 'cuda' if torch.cuda.is_available() else 'cpu'\n",
                "train_dataset = GeometricShapesDataset(root=path_to_geometric_shapes, num_points=num_points, k=k, train=True, return_type='knn_graph')\n",
                "val_dataset = GeometricShapesDataset(root=path_to_geometric_shapes, num_points=num_points,  k=k, train=False, return_type='knn_graph')\n",
                "\n",
                "train_loader = DataLoader(train_dataset, batch_size=bs, shuffle=True)\n",
                "val_loader = DataLoader(val_dataset, batch_size=bs, shuffle=False)\n",
                "\n",
                "model = GCN(in_channels=3, num_classes= dataset.num_classes , k=k)\n",
                "\n",
                "model = model.to(device)\n",
                "accuracy_metric.to(device)\n",
                "\n",
                "criterion = nn.CrossEntropyLoss()\n",
                "\n",
                "\n",
                "optimizer = optim.Adam(model.parameters(), lr=lr)\n",
                "\n",
                "\n",
                "train_losses = []\n",
                "train_accuracies = []\n",
                "val_losses = []\n",
                "val_accuracies = []\n",
                "\n",
                "print(\"\\nStarting training...\")\n",
                "for epoch in range(num_epochs):\n",
                "    train_loss, train_acc = train(model, train_loader, optimizer, criterion, accuracy_metric, device=device)\n",
                "    train_losses.append(train_loss)\n",
                "    train_accuracies.append(train_acc)\n",
                "\n",
                "    val_loss, val_acc = validate(model, val_loader, criterion, accuracy_metric, device=device)\n",
                "    val_losses.append(val_loss)\n",
                "    val_accuracies.append(val_acc)\n",
                "\n",
                "    print(f\"Epoch {epoch+1}/{num_epochs}, Train Loss: {train_loss:.4f}, Train Acc: {train_acc:.4f}, Val Loss: {val_loss:.4f}, Val Acc: {val_acc:.4f}\")\n",
                "\n",
                "print(\"\\nTraining finished.\")"
            ]
        },
        {
            "cell_type": "markdown",
            "metadata": {
                "id": "OldVeVvtTyOP"
            },
            "source": [
                "**Plot training curves**"
            ]
        },
        {
            "cell_type": "code",
            "execution_count": null,
            "metadata": {},
            "outputs": [],
            "source": [
                "# Plot training and validation loss\n",
                "plt.figure(figsize=(10, 5))\n",
                "plt.plot(train_losses, label='Train Loss')\n",
                "plt.plot(val_losses, label='Validation Loss')\n",
                "plt.xlabel('Epoch')\n",
                "plt.ylabel('Loss')\n",
                "plt.title('Training and Validation Loss')\n",
                "plt.legend()\n",
                "plt.grid(True)\n",
                "plt.show()\n",
                "\n",
                "# Plot training and validation accuracy\n",
                "plt.figure(figsize=(10, 5))\n",
                "plt.plot(train_accuracies, label='Train Accuracy')\n",
                "plt.plot(val_accuracies, label='Validation Accuracy')\n",
                "plt.xlabel('Epoch')\n",
                "plt.ylabel('Accuracy')\n",
                "plt.title('Training and Validation Accuracy')\n",
                "plt.legend()\n",
                "plt.grid(True)\n",
                "plt.show()"
            ]
        },
        {
            "cell_type": "markdown",
            "metadata": {
                "id": "AeayeOudnVKf"
            },
            "source": [
                "**Question:** Did the results meet your expectations? Given the model's parameter count and the accuracy achieved, do you find its performance acceptable? How does it compare to PointNet\u2014does it perform better or worse? What factors might explain this outcome? Please provide your reasoning.\n"
            ]
        }
    ],
    "metadata": {
        "kernelspec": {
            "display_name": "Python 3",
            "name": "python3"
        },
        "language_info": {
            "name": "python"
        }
    },
    "nbformat": 4,
    "nbformat_minor": 0
}
