{
    "cells": [
        {
            "cell_type": "markdown",
            "metadata": {
                "id": "0KHRKexphbzM"
            },
            "source": [
                "# Q-Learning in Python\n",
                "\n",
                "This notebook implements Q-Learning for tabular environments.\n",
                "\n",
                "**Lab exercise created by [V\u00edctor Campos](https://uk.linkedin.com/in/victor-campos-camunez), and adapted by [Xavier Giro-i-Nieto](https://imatge.upc.edu/web/people/xavier-giro) for the [Postgraduate course in Artificial Intelligence with Deep Learning](https://www.talent.upc.edu/ing/estudis/formacio/curs/310400/postgrau-artificial-intelligence-deep-learning/) in [UPC School](https://www.talent.upc.edu/ing/) (2020).**\n",
                "\n",
                "![V\u00edctor Campos](https://scholar.googleusercontent.com/citations?view_op=view_photo&user=8fzVqSkAAAAJ&citpid=2)\n",
                "![Xavier Giro-i-Nieto](https://scholar.googleusercontent.com/citations?view_op=view_photo&user=M3ZUEc8AAAAJ&citpid=9)"
            ]
        },
        {
            "cell_type": "markdown",
            "metadata": {
                "id": "wJH6uE5mh87e"
            },
            "source": [
                "## Import dependencies\n",
                "\n",
                "We will use OpenAI Gym to simulate the environment and numpy to perform computations. "
            ]
        },
        {
            "cell_type": "code",
            "execution_count": null,
            "metadata": {},
            "outputs": [],
            "source": [
                "!pip install gymnasium wandb --quiet"
            ]
        },
        {
            "cell_type": "code",
            "execution_count": null,
            "metadata": {},
            "outputs": [],
            "source": [
                "!pip install numpy==1.23.5"
            ]
        },
        {
            "cell_type": "code",
            "execution_count": null,
            "metadata": {},
            "outputs": [],
            "source": [
                "!apt-get -qq install -y xvfb x11-utils\n",
                "!pip install pyvirtualdisplay==0.2.* \\\n",
                "             PyOpenGL==3.1.* \\\n",
                "             PyOpenGL-accelerate==3.1.* \\\n",
                "             --quiet"
            ]
        },
        {
            "cell_type": "code",
            "execution_count": null,
            "metadata": {},
            "outputs": [],
            "source": [
                "import os\n",
                "import gymnasium as gym\n",
                "import glob\n",
                "import wandb\n",
                "import numpy as np\n",
                "import matplotlib.pyplot as plt\n",
                "from tqdm import tqdm_notebook as tqdm"
            ]
        },
        {
            "cell_type": "code",
            "execution_count": null,
            "metadata": {},
            "outputs": [],
            "source": [
                "from IPython.display import HTML\n",
                "from IPython.display import display"
            ]
        },
        {
            "cell_type": "code",
            "execution_count": null,
            "metadata": {},
            "outputs": [],
            "source": [
                "os.system(\"Xvfb :1 -screen 0 1024x768x24 &\")\n",
                "os.environ[\"DISPLAY\"] = \":1\"\n",
                "def get_video_filename(dir=\"video\"):\n",
                "  glob_mp4 = os.path.join(dir, \"*.mp4\")\n",
                "  mp4list = glob.glob(glob_mp4)\n",
                "  assert len(mp4list) > 0, \"couldnt find video files\"\n",
                "  return mp4list[-1]"
            ]
        },
        {
            "cell_type": "markdown",
            "metadata": {
                "id": "sdPIZ6puiO6X"
            },
            "source": [
                "## Visualize the environment\n",
                "\n",
                "We will train an agent in the [FrozenLake-v1](https://www.gymlibrary.dev/environments/toy_text/frozen_lake/) environment. Read the documentation and make sure that you understand the structure of the problem before moving forward."
            ]
        },
        {
            "cell_type": "code",
            "execution_count": null,
            "metadata": {},
            "outputs": [],
            "source": [
                "ACTIONS = {\n",
                "    0: \"LEFT\",\n",
                "    1: \"DOWN\",\n",
                "    2: \"RIGHT\",\n",
                "    3: \"UP\",\n",
                "}"
            ]
        },
        {
            "cell_type": "markdown",
            "metadata": {
                "collapsed": false,
                "pycharm": {
                    "name": "#%% md\n"
                }
            },
            "source": [
                "**Exercise #1.** Visualize a rollout of a random agent in the environment. Use the [documentation](https://gymnasium.farama.org/) for OpenAI Gym as a reference."
            ]
        },
        {
            "cell_type": "code",
            "execution_count": null,
            "metadata": {},
            "outputs": [],
            "source": [
                "# Create an instance of the environment\n",
                "env = gym.make(\"FrozenLake-v1\", render_mode=\"rgb_array\")\n",
                "env = gym.wrappers.RecordVideo(env, \"./video\")\n",
                "\n",
                "# TODO: reset the environment\n",
                "...\n",
                "\n",
                "done = False\n",
                "total_rew = 0\n",
                "\n",
                "# Allow a maximum of 10 interactions\n",
                "for t in range(10):\n",
                "  print(\"\\nTimestep {}\".format(t))\n",
                "  env.render()\n",
                "\n",
                "  # TODO: sample a random action\n",
                "  action = ...\n",
                "  \n",
                "  # TODO: simulate the action in the environment (make sure to capture the 'done' signal)\n",
                "  ...\n",
                "\n",
                "  \n",
                "  print(f\"Action: {ACTIONS[action]}, Observation: {ob}, Reward: {r}\")\n",
                "\n",
                "  # Exit if the episode terminated\n",
                "  if done:\n",
                "    print(\"\\nEpisode terminated early\")\n",
                "    break\n",
                "env.close()"
            ]
        },
        {
            "cell_type": "code",
            "execution_count": null,
            "metadata": {},
            "outputs": [],
            "source": [
                "wandb.login()"
            ]
        },
        {
            "cell_type": "code",
            "execution_count": null,
            "metadata": {},
            "outputs": [],
            "source": [
                "wandb.init(project=\"FROZEN_LAKE_V1\")\n",
                "wandb.run.name = 'frozenlake_random_agent'\n",
                "mp4 = get_video_filename()\n",
                "wandb.log({\"Video eval\": wandb.Video(mp4, fps=4, format=\"mp4\")})\n",
                "wandb.finish()"
            ]
        },
        {
            "cell_type": "markdown",
            "metadata": {
                "id": "AJmruf19m_sD"
            },
            "source": [
                "## Tabular Q-Learning Agent\n",
                "\n",
                "We will now implement an agent that performs Q-Learning in the tabular setting. It will maintain a table of Q(s,a) values, with shape `num_states x num_actions`, that will be updated online with the stream of experience collected by interacting with the environment.\n",
                "\n",
                "Exploration is critical in RL. The agent needs to continuously try actions that might seem suboptimal given its current beliefs in order to avoid getting trapped in local optima. We will use $\\epsilon$-greedy exploration for this purpose: a strategy that will sample random actions with probability $\\epsilon$, or will act greedily otherwise. We will decay $\\epsilon$ through the course of training, starting with a high value that favors exploration and slowly transitioning towards a more greedy policy.\n",
                "\n",
                "**Exercise #2.** Implement `QLearningAgent.greedy_action()`, a function that returns $\\text{argmax}_aQ(s,a)$.\n",
                "\n",
                "**Exercise #3.** Implement `QLearningAgent.eps_greedy_action()`, a function that returns a random action with probability $\\epsilon$ or $\\text{argmax}_aQ(s,a)$ otherwise.\n",
                "\n",
                "**Exercise #4.** Implement `QLearningAgent.update_q_values()`, a function that receives a tuple $(s_t,a_t,r_t,s_{t+1},d)$ and performs a TD update to the table of Q values. Pay special attention to the computation of the TD target for the last step of an episode (when `done==True`)."
            ]
        },
        {
            "cell_type": "code",
            "execution_count": null,
            "metadata": {},
            "outputs": [],
            "source": [
                "class QLearningAgent:\n",
                "  \"\"\"Tabular Q-Learning Agent with epsilon-greedy exploration.\"\"\"\n",
                "  def __init__(self, env_id, step_size=0.5, gamma=0.99,\n",
                "               init_eps=1.0, final_eps=0.05, eps_decay_steps=50000):\n",
                "    # Use separate env instances for training and testing\n",
                "    self.train_env = gym.make(env_id, render_mode=\"ansi\")\n",
                "    self.test_env = gym.make(env_id, render_mode=\"ansi\")\n",
                "\n",
                "    # Step size (this plays a similar role to the learning rate in SGD)\n",
                "    self.step_size = step_size\n",
                "\n",
                "    # Discount factor\n",
                "    self.gamma = gamma\n",
                "\n",
                "    # Epsilon, for epsilon-greedy exploration\n",
                "    self.eps = init_eps\n",
                "    self.init_eps = init_eps\n",
                "    self.final_eps = final_eps\n",
                "    self.eps_decay_steps = eps_decay_steps\n",
                "    self.eps_delta = (self.final_eps - self.init_eps) / self.eps_decay_steps\n",
                "\n",
                "    # Table of Q-values, initialized to zero\n",
                "    self.q = np.zeros(\n",
                "        (self.train_env.observation_space.n, self.train_env.action_space.n))\n",
                "    \n",
                "    # Keep track of the current state of the training env\n",
                "    self.s, _ = self.train_env.reset()\n",
                "\n",
                "  def update_eps(self):\n",
                "    \"\"\"Update the value of epsilon, ensuring that self.eps>=self.final_eps.\"\"\"\n",
                "    self.eps = max(self.eps + self.eps_delta, self.final_eps)\n",
                "  \n",
                "  def greedy_action(self, s):\n",
                "    # TODO: Returns argmax_a Q(s,a)\n",
                "\n",
                "  def eps_greedy_action(self, s):\n",
                "    # TODO: Returns random action with prob self.eps, or greedy action otherwise.\n",
                "\n",
                "  def update_q_values(self, s, a, r, next_s, done):\n",
                "    # TODO: Given a transition (s, a, r, s', done), perform a TD update to Q(s,a).\n",
                "\n",
                "  def perform_train_step(self):\n",
                "    \"\"\"Performs one RL interaction and updates the Q-values.\"\"\"\n",
                "    # Act epsilon-greedily\n",
                "    a = self.eps_greedy_action(self.s)\n",
                "    next_s, r, done, truncated, _ = self.train_env.step(a)\n",
                "\n",
                "    # Update table of Q values\n",
                "    self.update_q_values(self.s, a, r, next_s, done)\n",
                "\n",
                "    # Reset the env if the episode terminated\n",
                "    if done or truncated:\n",
                "      self.s, _ = self.train_env.reset()\n",
                "    else:\n",
                "      self.s = next_s\n",
                "    \n",
                "    # Update epsilon\n",
                "    self.update_eps()\n",
                "\n",
                "  def test(self, render=False):\n",
                "    \"\"\"Perform an evaluation rollout with the greedy policy.\n",
                "    Returns the cumulative reward.\"\"\"\n",
                "    s, _ = self.test_env.reset()\n",
                "    done = False\n",
                "    truncated = False\n",
                "    cumulative_r = 0.\n",
                "    while not (done or truncated):\n",
                "      if render:\n",
                "        self.test_env.render()\n",
                "      s, r, done, truncated, _ = self.test_env.step(self.greedy_action(s))\n",
                "      cumulative_r += r\n",
                "    return cumulative_r"
            ]
        },
        {
            "cell_type": "markdown",
            "metadata": {
                "id": "LThVtUyJyZFM"
            },
            "source": [
                "## Training loop\n",
                "\n",
                "We are now ready to train the agent. We will track the performance of the agent by performing evaluation rollouts periodically. In order to account for the stochasticity of the environment, the mean over several evaluation episodes is reported.\n",
                "\n",
                "**Exercise #5.** Train the agent with different hyperparameter configurations. Which ones have a larger influence in the results? "
            ]
        },
        {
            "cell_type": "code",
            "execution_count": null,
            "metadata": {},
            "outputs": [],
            "source": [
                "NUM_TRAINING_STEPS = 100000\n",
                "EVALUATION_FREQ = 100\n",
                "NUM_EVALUATION_EPISODES = 20\n",
                "\n",
                "agent = QLearningAgent(\"FrozenLake-v1\",\n",
                "                       step_size=0.05, \n",
                "                       gamma=0.99,\n",
                "                       init_eps=1.0, \n",
                "                       final_eps=0.1, \n",
                "                       eps_decay_steps=NUM_TRAINING_STEPS)\n",
                "\n",
                "iter_history, rew_history = [], []\n",
                "for iter_idx in tqdm(range(NUM_TRAINING_STEPS)):\n",
                "  agent.perform_train_step()\n",
                "  if iter_idx % EVALUATION_FREQ == 0 or iter_idx == (NUM_TRAINING_STEPS - 1):\n",
                "    rew = np.mean([agent.test() for _ in range(NUM_EVALUATION_EPISODES)])\n",
                "    iter_history.append(iter_idx + 1)\n",
                "    rew_history.append(rew)\n",
                "\n",
                "# Plot results\n",
                "fig, ax = plt.subplots(1, 1, figsize=(9,4))\n",
                "ax.plot(iter_history, rew_history, label=\"Agent's reward\")\n",
                "ax.plot(iter_history, \n",
                "        [agent.train_env.spec.reward_threshold] * len(iter_history),\n",
                "        'r--', label=\"Maximum reward\")\n",
                "ax.set_xlabel(\"Environment steps\")\n",
                "ax.set_ylabel(\"Reward\")\n",
                "_ = ax.legend()"
            ]
        },
        {
            "cell_type": "markdown",
            "metadata": {
                "id": "4Ml5xg7UU50W"
            },
            "source": [
                "## Visualizing the learned policy"
            ]
        },
        {
            "cell_type": "code",
            "execution_count": null,
            "metadata": {},
            "outputs": [],
            "source": [
                "agent.test_env = gym.wrappers.RecordVideo(gym.make(\"FrozenLake-v1\", render_mode=\"rgb_array\"), \"./video\")"
            ]
        },
        {
            "cell_type": "code",
            "execution_count": null,
            "metadata": {},
            "outputs": [],
            "source": [
                "agent.test()"
            ]
        },
        {
            "cell_type": "code",
            "execution_count": null,
            "metadata": {},
            "outputs": [],
            "source": [
                "wandb.init(project=\"FROZEN_LAKE_V1\")\n",
                "wandb.run.name = 'frozenlake_final_agent'\n",
                "mp4 = get_video_filename()\n",
                "wandb.log({\"Video eval\": wandb.Video(mp4, fps=4, format=\"mp4\")})\n",
                "wandb.finish()"
            ]
        }
    ],
    "metadata": {
        "kernelspec": {
            "display_name": "Python 3",
            "name": "python3"
        },
        "language_info": {
            "codemirror_mode": {
                "name": "ipython",
                "version": 3
            },
            "file_extension": ".py",
            "mimetype": "text/x-python",
            "name": "python",
            "nbconvert_exporter": "python",
            "pygments_lexer": "ipython3",
            "version": "3.11.5"
        },
        "widgets": {
            "application/vnd.jupyter.widget-state+json": {
                "14e83f326fc644409831d7cdce7c33be": {
                    "model_module": "@jupyter-widgets/controls",
                    "model_module_version": "1.5.0",
                    "model_name": "HTMLModel",
                    "state": {
                        "_dom_classes": [],
                        "_model_module": "@jupyter-widgets/controls",
                        "_model_module_version": "1.5.0",
                        "_model_name": "HTMLModel",
                        "_view_count": null,
                        "_view_module": "@jupyter-widgets/controls",
                        "_view_module_version": "1.5.0",
                        "_view_name": "HTMLView",
                        "description": "",
                        "description_tooltip": null,
                        "layout": "IPY_MODEL_29324e13b60f4ab1afeb6f7972ec263a",
                        "placeholder": "\u200b",
                        "style": "IPY_MODEL_cdf0d16598bd4effacbb11266a55a37c",
                        "value": " 100000/100000 [00:18&lt;00:00, 5488.46it/s]"
                    }
                },
                "29324e13b60f4ab1afeb6f7972ec263a": {
                    "model_module": "@jupyter-widgets/base",
                    "model_module_version": "1.2.0",
                    "model_name": "LayoutModel",
                    "state": {
                        "_model_module": "@jupyter-widgets/base",
                        "_model_module_version": "1.2.0",
                        "_model_name": "LayoutModel",
                        "_view_count": null,
                        "_view_module": "@jupyter-widgets/base",
                        "_view_module_version": "1.2.0",
                        "_view_name": "LayoutView",
                        "align_content": null,
                        "align_items": null,
                        "align_self": null,
                        "border": null,
                        "bottom": null,
                        "display": null,
                        "flex": null,
                        "flex_flow": null,
                        "grid_area": null,
                        "grid_auto_columns": null,
                        "grid_auto_flow": null,
                        "grid_auto_rows": null,
                        "grid_column": null,
                        "grid_gap": null,
                        "grid_row": null,
                        "grid_template_areas": null,
                        "grid_template_columns": null,
                        "grid_template_rows": null,
                        "height": null,
                        "justify_content": null,
                        "justify_items": null,
                        "left": null,
                        "margin": null,
                        "max_height": null,
                        "max_width": null,
                        "min_height": null,
                        "min_width": null,
                        "object_fit": null,
                        "object_position": null,
                        "order": null,
                        "overflow": null,
                        "overflow_x": null,
                        "overflow_y": null,
                        "padding": null,
                        "right": null,
                        "top": null,
                        "visibility": null,
                        "width": null
                    }
                },
                "a8ca03d0e3d84033811d7b5189f6e44b": {
                    "model_module": "@jupyter-widgets/controls",
                    "model_module_version": "1.5.0",
                    "model_name": "FloatProgressModel",
                    "state": {
                        "_dom_classes": [],
                        "_model_module": "@jupyter-widgets/controls",
                        "_model_module_version": "1.5.0",
                        "_model_name": "FloatProgressModel",
                        "_view_count": null,
                        "_view_module": "@jupyter-widgets/controls",
                        "_view_module_version": "1.5.0",
                        "_view_name": "ProgressView",
                        "bar_style": "success",
                        "description": "100%",
                        "description_tooltip": null,
                        "layout": "IPY_MODEL_b43b36af58154e71a096dbd6d7a0c467",
                        "max": 100000,
                        "min": 0,
                        "orientation": "horizontal",
                        "style": "IPY_MODEL_fee58f6a96de4f5585762b5585d712a7",
                        "value": 100000
                    }
                },
                "b10c2b62aeb8460f953317dde863ee15": {
                    "model_module": "@jupyter-widgets/controls",
                    "model_module_version": "1.5.0",
                    "model_name": "HBoxModel",
                    "state": {
                        "_dom_classes": [],
                        "_model_module": "@jupyter-widgets/controls",
                        "_model_module_version": "1.5.0",
                        "_model_name": "HBoxModel",
                        "_view_count": null,
                        "_view_module": "@jupyter-widgets/controls",
                        "_view_module_version": "1.5.0",
                        "_view_name": "HBoxView",
                        "box_style": "",
                        "children": [
                            "IPY_MODEL_a8ca03d0e3d84033811d7b5189f6e44b",
                            "IPY_MODEL_14e83f326fc644409831d7cdce7c33be"
                        ],
                        "layout": "IPY_MODEL_da7d58495f6245229574335dde07266c"
                    }
                },
                "b43b36af58154e71a096dbd6d7a0c467": {
                    "model_module": "@jupyter-widgets/base",
                    "model_module_version": "1.2.0",
                    "model_name": "LayoutModel",
                    "state": {
                        "_model_module": "@jupyter-widgets/base",
                        "_model_module_version": "1.2.0",
                        "_model_name": "LayoutModel",
                        "_view_count": null,
                        "_view_module": "@jupyter-widgets/base",
                        "_view_module_version": "1.2.0",
                        "_view_name": "LayoutView",
                        "align_content": null,
                        "align_items": null,
                        "align_self": null,
                        "border": null,
                        "bottom": null,
                        "display": null,
                        "flex": null,
                        "flex_flow": null,
                        "grid_area": null,
                        "grid_auto_columns": null,
                        "grid_auto_flow": null,
                        "grid_auto_rows": null,
                        "grid_column": null,
                        "grid_gap": null,
                        "grid_row": null,
                        "grid_template_areas": null,
                        "grid_template_columns": null,
                        "grid_template_rows": null,
                        "height": null,
                        "justify_content": null,
                        "justify_items": null,
                        "left": null,
                        "margin": null,
                        "max_height": null,
                        "max_width": null,
                        "min_height": null,
                        "min_width": null,
                        "object_fit": null,
                        "object_position": null,
                        "order": null,
                        "overflow": null,
                        "overflow_x": null,
                        "overflow_y": null,
                        "padding": null,
                        "right": null,
                        "top": null,
                        "visibility": null,
                        "width": null
                    }
                },
                "cdf0d16598bd4effacbb11266a55a37c": {
                    "model_module": "@jupyter-widgets/controls",
                    "model_module_version": "1.5.0",
                    "model_name": "DescriptionStyleModel",
                    "state": {
                        "_model_module": "@jupyter-widgets/controls",
                        "_model_module_version": "1.5.0",
                        "_model_name": "DescriptionStyleModel",
                        "_view_count": null,
                        "_view_module": "@jupyter-widgets/base",
                        "_view_module_version": "1.2.0",
                        "_view_name": "StyleView",
                        "description_width": ""
                    }
                },
                "da7d58495f6245229574335dde07266c": {
                    "model_module": "@jupyter-widgets/base",
                    "model_module_version": "1.2.0",
                    "model_name": "LayoutModel",
                    "state": {
                        "_model_module": "@jupyter-widgets/base",
                        "_model_module_version": "1.2.0",
                        "_model_name": "LayoutModel",
                        "_view_count": null,
                        "_view_module": "@jupyter-widgets/base",
                        "_view_module_version": "1.2.0",
                        "_view_name": "LayoutView",
                        "align_content": null,
                        "align_items": null,
                        "align_self": null,
                        "border": null,
                        "bottom": null,
                        "display": null,
                        "flex": null,
                        "flex_flow": null,
                        "grid_area": null,
                        "grid_auto_columns": null,
                        "grid_auto_flow": null,
                        "grid_auto_rows": null,
                        "grid_column": null,
                        "grid_gap": null,
                        "grid_row": null,
                        "grid_template_areas": null,
                        "grid_template_columns": null,
                        "grid_template_rows": null,
                        "height": null,
                        "justify_content": null,
                        "justify_items": null,
                        "left": null,
                        "margin": null,
                        "max_height": null,
                        "max_width": null,
                        "min_height": null,
                        "min_width": null,
                        "object_fit": null,
                        "object_position": null,
                        "order": null,
                        "overflow": null,
                        "overflow_x": null,
                        "overflow_y": null,
                        "padding": null,
                        "right": null,
                        "top": null,
                        "visibility": null,
                        "width": null
                    }
                },
                "fee58f6a96de4f5585762b5585d712a7": {
                    "model_module": "@jupyter-widgets/controls",
                    "model_module_version": "1.5.0",
                    "model_name": "ProgressStyleModel",
                    "state": {
                        "_model_module": "@jupyter-widgets/controls",
                        "_model_module_version": "1.5.0",
                        "_model_name": "ProgressStyleModel",
                        "_view_count": null,
                        "_view_module": "@jupyter-widgets/base",
                        "_view_module_version": "1.2.0",
                        "_view_name": "StyleView",
                        "bar_color": null,
                        "description_width": "initial"
                    }
                }
            }
        }
    },
    "nbformat": 4,
    "nbformat_minor": 0
}
