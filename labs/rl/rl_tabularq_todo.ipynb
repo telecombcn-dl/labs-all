{
    "nbformat": 4,
    "nbformat_minor": 0,
    "metadata": {
        "kernelspec": {
            "name": "python3",
            "display_name": "Python 3"
        },
        "widgets": {
            "application/vnd.jupyter.widget-state+json": {
                "b10c2b62aeb8460f953317dde863ee15": {
                    "model_module": "@jupyter-widgets/controls",
                    "model_name": "HBoxModel",
                    "state": {
                        "_view_name": "HBoxView",
                        "_dom_classes": [],
                        "_model_name": "HBoxModel",
                        "_view_module": "@jupyter-widgets/controls",
                        "_model_module_version": "1.5.0",
                        "_view_count": null,
                        "_view_module_version": "1.5.0",
                        "box_style": "",
                        "layout": "IPY_MODEL_da7d58495f6245229574335dde07266c",
                        "_model_module": "@jupyter-widgets/controls",
                        "children": [
                            "IPY_MODEL_a8ca03d0e3d84033811d7b5189f6e44b",
                            "IPY_MODEL_14e83f326fc644409831d7cdce7c33be"
                        ]
                    },
                    "model_module_version": "1.5.0"
                },
                "da7d58495f6245229574335dde07266c": {
                    "model_module": "@jupyter-widgets/base",
                    "model_name": "LayoutModel",
                    "state": {
                        "_view_name": "LayoutView",
                        "grid_template_rows": null,
                        "right": null,
                        "justify_content": null,
                        "_view_module": "@jupyter-widgets/base",
                        "overflow": null,
                        "_model_module_version": "1.2.0",
                        "_view_count": null,
                        "flex_flow": null,
                        "width": null,
                        "min_width": null,
                        "border": null,
                        "align_items": null,
                        "bottom": null,
                        "_model_module": "@jupyter-widgets/base",
                        "top": null,
                        "grid_column": null,
                        "overflow_y": null,
                        "overflow_x": null,
                        "grid_auto_flow": null,
                        "grid_area": null,
                        "grid_template_columns": null,
                        "flex": null,
                        "_model_name": "LayoutModel",
                        "justify_items": null,
                        "grid_row": null,
                        "max_height": null,
                        "align_content": null,
                        "visibility": null,
                        "align_self": null,
                        "height": null,
                        "min_height": null,
                        "padding": null,
                        "grid_auto_rows": null,
                        "grid_gap": null,
                        "max_width": null,
                        "order": null,
                        "_view_module_version": "1.2.0",
                        "grid_template_areas": null,
                        "object_position": null,
                        "object_fit": null,
                        "grid_auto_columns": null,
                        "margin": null,
                        "display": null,
                        "left": null
                    },
                    "model_module_version": "1.2.0"
                },
                "a8ca03d0e3d84033811d7b5189f6e44b": {
                    "model_module": "@jupyter-widgets/controls",
                    "model_name": "FloatProgressModel",
                    "state": {
                        "_view_name": "ProgressView",
                        "style": "IPY_MODEL_fee58f6a96de4f5585762b5585d712a7",
                        "_dom_classes": [],
                        "description": "100%",
                        "_model_name": "FloatProgressModel",
                        "bar_style": "success",
                        "max": 100000,
                        "_view_module": "@jupyter-widgets/controls",
                        "_model_module_version": "1.5.0",
                        "value": 100000,
                        "_view_count": null,
                        "_view_module_version": "1.5.0",
                        "orientation": "horizontal",
                        "min": 0,
                        "description_tooltip": null,
                        "_model_module": "@jupyter-widgets/controls",
                        "layout": "IPY_MODEL_b43b36af58154e71a096dbd6d7a0c467"
                    },
                    "model_module_version": "1.5.0"
                },
                "14e83f326fc644409831d7cdce7c33be": {
                    "model_module": "@jupyter-widgets/controls",
                    "model_name": "HTMLModel",
                    "state": {
                        "_view_name": "HTMLView",
                        "style": "IPY_MODEL_cdf0d16598bd4effacbb11266a55a37c",
                        "_dom_classes": [],
                        "description": "",
                        "_model_name": "HTMLModel",
                        "placeholder": "\u200b",
                        "_view_module": "@jupyter-widgets/controls",
                        "_model_module_version": "1.5.0",
                        "value": " 100000/100000 [00:18&lt;00:00, 5488.46it/s]",
                        "_view_count": null,
                        "_view_module_version": "1.5.0",
                        "description_tooltip": null,
                        "_model_module": "@jupyter-widgets/controls",
                        "layout": "IPY_MODEL_29324e13b60f4ab1afeb6f7972ec263a"
                    },
                    "model_module_version": "1.5.0"
                },
                "fee58f6a96de4f5585762b5585d712a7": {
                    "model_module": "@jupyter-widgets/controls",
                    "model_name": "ProgressStyleModel",
                    "state": {
                        "_view_name": "StyleView",
                        "_model_name": "ProgressStyleModel",
                        "description_width": "initial",
                        "_view_module": "@jupyter-widgets/base",
                        "_model_module_version": "1.5.0",
                        "_view_count": null,
                        "_view_module_version": "1.2.0",
                        "bar_color": null,
                        "_model_module": "@jupyter-widgets/controls"
                    },
                    "model_module_version": "1.5.0"
                },
                "b43b36af58154e71a096dbd6d7a0c467": {
                    "model_module": "@jupyter-widgets/base",
                    "model_name": "LayoutModel",
                    "state": {
                        "_view_name": "LayoutView",
                        "grid_template_rows": null,
                        "right": null,
                        "justify_content": null,
                        "_view_module": "@jupyter-widgets/base",
                        "overflow": null,
                        "_model_module_version": "1.2.0",
                        "_view_count": null,
                        "flex_flow": null,
                        "width": null,
                        "min_width": null,
                        "border": null,
                        "align_items": null,
                        "bottom": null,
                        "_model_module": "@jupyter-widgets/base",
                        "top": null,
                        "grid_column": null,
                        "overflow_y": null,
                        "overflow_x": null,
                        "grid_auto_flow": null,
                        "grid_area": null,
                        "grid_template_columns": null,
                        "flex": null,
                        "_model_name": "LayoutModel",
                        "justify_items": null,
                        "grid_row": null,
                        "max_height": null,
                        "align_content": null,
                        "visibility": null,
                        "align_self": null,
                        "height": null,
                        "min_height": null,
                        "padding": null,
                        "grid_auto_rows": null,
                        "grid_gap": null,
                        "max_width": null,
                        "order": null,
                        "_view_module_version": "1.2.0",
                        "grid_template_areas": null,
                        "object_position": null,
                        "object_fit": null,
                        "grid_auto_columns": null,
                        "margin": null,
                        "display": null,
                        "left": null
                    },
                    "model_module_version": "1.2.0"
                },
                "cdf0d16598bd4effacbb11266a55a37c": {
                    "model_module": "@jupyter-widgets/controls",
                    "model_name": "DescriptionStyleModel",
                    "state": {
                        "_view_name": "StyleView",
                        "_model_name": "DescriptionStyleModel",
                        "description_width": "",
                        "_view_module": "@jupyter-widgets/base",
                        "_model_module_version": "1.5.0",
                        "_view_count": null,
                        "_view_module_version": "1.2.0",
                        "_model_module": "@jupyter-widgets/controls"
                    },
                    "model_module_version": "1.5.0"
                },
                "29324e13b60f4ab1afeb6f7972ec263a": {
                    "model_module": "@jupyter-widgets/base",
                    "model_name": "LayoutModel",
                    "state": {
                        "_view_name": "LayoutView",
                        "grid_template_rows": null,
                        "right": null,
                        "justify_content": null,
                        "_view_module": "@jupyter-widgets/base",
                        "overflow": null,
                        "_model_module_version": "1.2.0",
                        "_view_count": null,
                        "flex_flow": null,
                        "width": null,
                        "min_width": null,
                        "border": null,
                        "align_items": null,
                        "bottom": null,
                        "_model_module": "@jupyter-widgets/base",
                        "top": null,
                        "grid_column": null,
                        "overflow_y": null,
                        "overflow_x": null,
                        "grid_auto_flow": null,
                        "grid_area": null,
                        "grid_template_columns": null,
                        "flex": null,
                        "_model_name": "LayoutModel",
                        "justify_items": null,
                        "grid_row": null,
                        "max_height": null,
                        "align_content": null,
                        "visibility": null,
                        "align_self": null,
                        "height": null,
                        "min_height": null,
                        "padding": null,
                        "grid_auto_rows": null,
                        "grid_gap": null,
                        "max_width": null,
                        "order": null,
                        "_view_module_version": "1.2.0",
                        "grid_template_areas": null,
                        "object_position": null,
                        "object_fit": null,
                        "grid_auto_columns": null,
                        "margin": null,
                        "display": null,
                        "left": null
                    },
                    "model_module_version": "1.2.0"
                }
            }
        }
    },
    "cells": [
        {
            "cell_type": "markdown",
            "metadata": {
                "id": "0KHRKexphbzM"
            },
            "source": [
                "# Q-Learning in Python\n",
                "\n",
                "This notebook implements Q-Learning for tabular environments.\n",
                "\n",
                "**Lab exercise created by [V\u00edctor Campos](https://uk.linkedin.com/in/victor-campos-camunez), and adapted by [Xavier Giro-i-Nieto](https://imatge.upc.edu/web/people/xavier-giro) for the [Postgraduate course in Artificial Intelligence with Deep Learning](https://www.talent.upc.edu/ing/estudis/formacio/curs/310400/postgrau-artificial-intelligence-deep-learning/) in [UPC School](https://www.talent.upc.edu/ing/) (2020).**\n",
                "\n",
                "![V\u00edctor Campos](https://scholar.googleusercontent.com/citations?view_op=view_photo&user=8fzVqSkAAAAJ&citpid=2)\n",
                "![Xavier Giro-i-Nieto](https://scholar.googleusercontent.com/citations?view_op=view_photo&user=M3ZUEc8AAAAJ&citpid=9)"
            ]
        },
        {
            "cell_type": "markdown",
            "metadata": {
                "id": "wJH6uE5mh87e"
            },
            "source": [
                "## Import dependencies\n",
                "\n",
                "We will use OpenAI Gym to simulate the environment and numpy to perform computations. "
            ]
        },
        {
            "cell_type": "code",
            "execution_count": null,
            "outputs": [],
            "source": [
                "!pip install gym[toy_text] wandb --quiet"
            ],
            "metadata": {}
        },
        {
            "cell_type": "code",
            "execution_count": null,
            "outputs": [],
            "source": [
                "%%capture\n",
                "!pip install pyglet==1.5.1\n",
                "!apt install python-opengl\n",
                "!apt install ffmpeg\n",
                "!apt install xvfb\n",
                "!pip3 install pyvirtualdisplay"
            ],
            "metadata": {}
        },
        {
            "cell_type": "code",
            "execution_count": null,
            "outputs": [],
            "source": [
                "# Virtual display\n",
                "from pyvirtualdisplay import Display\n",
                "\n",
                "virtual_display = Display(visible=0, size=(900, 900))\n",
                "virtual_display.start()"
            ],
            "metadata": {}
        },
        {
            "cell_type": "code",
            "execution_count": null,
            "outputs": [],
            "source": [
                "import os\n",
                "import gym\n",
                "import glob\n",
                "import wandb\n",
                "import numpy as np\n",
                "import matplotlib.pyplot as plt\n",
                "from tqdm import tqdm_notebook as tqdm"
            ],
            "metadata": {}
        },
        {
            "cell_type": "code",
            "source": [
                "def get_video_filename(dir=\"video\"):\n",
                "  glob_mp4 = os.path.join(dir, \"*.mp4\")\n",
                "  mp4list = glob.glob(glob_mp4)\n",
                "  assert len(mp4list) > 0, \"couldnt find video files\"\n",
                "  return mp4list[-1]"
            ],
            "metadata": {},
            "execution_count": null,
            "outputs": []
        },
        {
            "cell_type": "markdown",
            "metadata": {
                "id": "sdPIZ6puiO6X"
            },
            "source": [
                "## Visualize the environment\n",
                "\n",
                "We will train an agent in the [FrozenLake-v1](https://www.gymlibrary.dev/environments/toy_text/frozen_lake/) environment. Read the documentation and make sure that you understand the structure of the problem before moving forward."
            ]
        },
        {
            "cell_type": "code",
            "metadata": {},
            "source": [
                "ACTIONS = {\n",
                "    0: \"LEFT\",\n",
                "    1: \"DOWN\",\n",
                "    2: \"RIGHT\",\n",
                "    3: \"UP\",\n",
                "}"
            ],
            "execution_count": null,
            "outputs": []
        },
        {
            "cell_type": "markdown",
            "source": [
                "**Exercise #1.** Visualize a rollout of a random agent in the environment. Use the [documentation](https://gymnasium.farama.org/) for OpenAI Gym as a reference."
            ],
            "metadata": {
                "collapsed": false,
                "pycharm": {
                    "name": "#%% md\n"
                }
            }
        },
        {
            "cell_type": "code",
            "metadata": {},
            "source": [
                "# Create an instance of the environment\n",
                "env = gym.make(\"FrozenLake-v1\", render_mode=\"rgb_array\")\n",
                "env = gym.wrappers.RecordVideo(env, \"./video\")\n",
                "\n",
                "# TODO: reset the environment\n",
                "...\n",
                "\n",
                "done = False\n",
                "total_rew = 0\n",
                "\n",
                "# Allow a maximum of 10 interactions\n",
                "for t in range(10):\n",
                "  print(\"\\nTimestep {}\".format(t))\n",
                "  env.render()\n",
                "\n",
                "  # TODO: sample a random action\n",
                "  action = ...\n",
                "  \n",
                "  # TODO: simulate the action in the environment (make sure to capture the 'done' signal)\n",
                "  ...\n",
                "\n",
                "  \n",
                "  print(f\"Action: {ACTIONS[action]}, Observation: {ob}, Reward: {r}\")\n",
                "\n",
                "  # Exit if the episode terminated\n",
                "  if done:\n",
                "    print(\"\\nEpisode terminated early\")\n",
                "    break"
            ],
            "execution_count": null,
            "outputs": []
        },
        {
            "cell_type": "code",
            "execution_count": null,
            "outputs": [],
            "source": [
                "wandb.login()"
            ],
            "metadata": {}
        },
        {
            "cell_type": "code",
            "source": [
                "wandb.init(project=\"FROZEN_LAKE_V1\")\n",
                "wandb.run.name = 'frozenlake_random_agent'\n",
                "mp4 = get_video_filename()\n",
                "wandb.log({\"Video eval\": wandb.Video(mp4, fps=4, format=\"mp4\")})\n",
                "wandb.finish()"
            ],
            "metadata": {},
            "execution_count": null,
            "outputs": []
        },
        {
            "cell_type": "markdown",
            "metadata": {
                "id": "AJmruf19m_sD"
            },
            "source": [
                "## Tabular Q-Learning Agent\n",
                "\n",
                "We will now implement an agent that performs Q-Learning in the tabular setting. It will maintain a table of Q(s,a) values, with shape `num_states x num_actions`, that will be updated online with the stream of experience collected by interacting with the environment.\n",
                "\n",
                "Exploration is critical in RL. The agent needs to continuously try actions that might seem suboptimal given its current beliefs in order to avoid getting trapped in local optima. We will use $\\epsilon$-greedy exploration for this purpose: a strategy that will sample random actions with probability $\\epsilon$, or will act greedily otherwise. We will decay $\\epsilon$ through the course of training, starting with a high value that favors exploration and slowly transitioning towards a more greedy policy.\n",
                "\n",
                "**Exercise #2.** Implement `QLearningAgent.greedy_action()`, a function that returns $\\text{argmax}_aQ(s,a)$.\n",
                "\n",
                "**Exercise #3.** Implement `QLearningAgent.eps_greedy_action()`, a function that returns a random action with probability $\\epsilon$ or $\\text{argmax}_aQ(s,a)$ otherwise.\n",
                "\n",
                "**Exercise #4.** Implement `QLearningAgent.update_q_values()`, a function that receives a tuple $(s_t,a_t,r_t,s_{t+1},d)$ and performs a TD update to the table of Q values. Pay special attention to the computation of the TD target for the last step of an episode (when `done==True`)."
            ]
        },
        {
            "cell_type": "code",
            "metadata": {},
            "source": [
                "class QLearningAgent:\n",
                "  \"\"\"Tabular Q-Learning Agent with epsilon-greedy exploration.\"\"\"\n",
                "  def __init__(self, env_id, step_size=0.5, gamma=0.99,\n",
                "               init_eps=1.0, final_eps=0.05, eps_decay_steps=50000):\n",
                "    # Use separate env instances for training and testing\n",
                "    self.train_env = gym.make(env_id, render_mode=\"ansi\")\n",
                "    self.test_env = gym.make(env_id, render_mode=\"ansi\")\n",
                "\n",
                "    # Step size (this plays a similar role to the learning rate in SGD)\n",
                "    self.step_size = step_size\n",
                "\n",
                "    # Discount factor\n",
                "    self.gamma = gamma\n",
                "\n",
                "    # Epsilon, for epsilon-greedy exploration\n",
                "    self.eps = init_eps\n",
                "    self.init_eps = init_eps\n",
                "    self.final_eps = final_eps\n",
                "    self.eps_decay_steps = eps_decay_steps\n",
                "    self.eps_delta = (self.final_eps - self.init_eps) / self.eps_decay_steps\n",
                "\n",
                "    # Table of Q-values, initialized to zero\n",
                "    self.q = np.zeros(\n",
                "        (self.train_env.observation_space.n, self.train_env.action_space.n))\n",
                "    \n",
                "    # Keep track of the current state of the training env\n",
                "    self.s = self.train_env.reset()\n",
                "\n",
                "  def update_eps(self):\n",
                "    \"\"\"Update the value of epsilon, ensuring that self.eps>=self.final_eps.\"\"\"\n",
                "    self.eps = max(self.eps + self.eps_delta, self.final_eps)\n",
                "  \n",
                "  def greedy_action(self, s):\n",
                "    # TODO: Returns argmax_a Q(s,a)\n",
                "\n",
                "  def eps_greedy_action(self, s):\n",
                "    # TODO: Returns random action with prob self.eps, or greedy action otherwise.\n",
                "\n",
                "  def update_q_values(self, s, a, r, next_s, done):\n",
                "    # TODO: Given a transition (s, a, r, s', done), perform a TD update to Q(s,a).\n",
                "\n",
                "  def perform_train_step(self):\n",
                "    \"\"\"Performs one RL interaction and updates the Q-values.\"\"\"\n",
                "    # Act epsilon-greedily\n",
                "    a = self.eps_greedy_action(self.s)\n",
                "    next_s, r, done, _ = self.train_env.step(a)\n",
                "\n",
                "    # Update table of Q values\n",
                "    self.update_q_values(self.s, a, r, next_s, done)\n",
                "\n",
                "    # Reset the env if the episode terminated\n",
                "    if done:\n",
                "      self.s = self.train_env.reset()\n",
                "    else:\n",
                "      self.s = next_s\n",
                "    \n",
                "    # Update epsilon\n",
                "    self.update_eps()\n",
                "\n",
                "  def test(self, render=False):\n",
                "    \"\"\"Perform an evaluation rollout with the greedy policy.\n",
                "    Returns the cumulative reward.\"\"\"\n",
                "    s = self.test_env.reset()\n",
                "    done = False\n",
                "    cumulative_r = 0.\n",
                "    while not done:\n",
                "      if render:\n",
                "        self.test_env.render()\n",
                "      s, r, done, _ = self.test_env.step(self.greedy_action(s))\n",
                "      cumulative_r += r\n",
                "    return cumulative_r"
            ],
            "execution_count": null,
            "outputs": []
        },
        {
            "cell_type": "markdown",
            "metadata": {
                "id": "LThVtUyJyZFM"
            },
            "source": [
                "## Training loop\n",
                "\n",
                "We are now ready to train the agent. We will track the performance of the agent by performing evaluation rollouts periodically. In order to account for the stochasticity of the environment, the mean over several evaluation episodes is reported.\n",
                "\n",
                "**Exercise #5.** Train the agent with different hyperparameter configurations. Which ones have a larger influence in the results? "
            ]
        },
        {
            "cell_type": "code",
            "metadata": {},
            "source": [
                "NUM_TRAINING_STEPS = 100000\n",
                "EVALUATION_FREQ = 100\n",
                "NUM_EVALUATION_EPISODES = 20\n",
                "\n",
                "agent = QLearningAgent(\"FrozenLake-v1\",\n",
                "                       step_size=0.05, \n",
                "                       gamma=0.99,\n",
                "                       init_eps=1.0, \n",
                "                       final_eps=0.1, \n",
                "                       eps_decay_steps=NUM_TRAINING_STEPS)\n",
                "\n",
                "iter_history, rew_history = [], []\n",
                "for iter_idx in tqdm(range(NUM_TRAINING_STEPS)):\n",
                "  agent.perform_train_step()\n",
                "  if iter_idx % EVALUATION_FREQ == 0 or iter_idx == (NUM_TRAINING_STEPS - 1):\n",
                "    rew = np.mean([agent.test() for _ in range(NUM_EVALUATION_EPISODES)])\n",
                "    iter_history.append(iter_idx + 1)\n",
                "    rew_history.append(rew)\n",
                "\n",
                "# Plot results\n",
                "fig, ax = plt.subplots(1, 1, figsize=(9,4))\n",
                "ax.plot(iter_history, rew_history, label=\"Agent's reward\")\n",
                "ax.plot(iter_history, \n",
                "        [agent.train_env.spec.reward_threshold] * len(iter_history),\n",
                "        'r--', label=\"Maximum reward\")\n",
                "ax.set_xlabel(\"Environment steps\")\n",
                "ax.set_ylabel(\"Reward\")\n",
                "_ = ax.legend()"
            ],
            "execution_count": null,
            "outputs": []
        },
        {
            "cell_type": "markdown",
            "metadata": {
                "id": "4Ml5xg7UU50W"
            },
            "source": [
                "## Visualizing the learned policy"
            ]
        },
        {
            "cell_type": "code",
            "execution_count": null,
            "outputs": [],
            "source": [
                "virtual_display = Display(visible=0, size=(900, 900))\n",
                "virtual_display.start()"
            ],
            "metadata": {}
        },
        {
            "cell_type": "code",
            "execution_count": null,
            "outputs": [],
            "source": [
                "agent.test_env = gym.wrappers.RecordVideo(gym.make(\"FrozenLake-v1\", render_mode=\"rgb_array\"), \"./video\")"
            ],
            "metadata": {}
        },
        {
            "cell_type": "code",
            "metadata": {},
            "source": [
                "agent.test()"
            ],
            "execution_count": null,
            "outputs": []
        },
        {
            "cell_type": "code",
            "metadata": {},
            "source": [
                "wandb.init(project=\"FROZEN_LAKE_V1\")\n",
                "wandb.run.name = 'frozenlake_final_agent'\n",
                "mp4 = get_video_filename()\n",
                "wandb.log({\"Video eval\": wandb.Video(mp4, fps=4, format=\"mp4\")})\n",
                "wandb.finish()"
            ],
            "execution_count": null,
            "outputs": []
        }
    ]
}
