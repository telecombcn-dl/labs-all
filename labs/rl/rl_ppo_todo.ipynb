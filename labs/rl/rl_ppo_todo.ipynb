{
    "nbformat": 4,
    "nbformat_minor": 0,
    "metadata": {
        "kernelspec": {
            "name": "python3",
            "display_name": "Python 3"
        },
        "language_info": {
            "name": "python"
        },
        "widgets": {
            "application/vnd.jupyter.widget-state+json": {
                "da1896caf79f471595f4b82da08fc8f2": {
                    "model_module": "@jupyter-widgets/controls",
                    "model_name": "VBoxModel",
                    "model_module_version": "1.5.0",
                    "state": {
                        "_view_name": "VBoxView",
                        "_dom_classes": [],
                        "_model_name": "VBoxModel",
                        "_view_module": "@jupyter-widgets/controls",
                        "_model_module_version": "1.5.0",
                        "_view_count": null,
                        "_view_module_version": "1.5.0",
                        "box_style": "",
                        "layout": "IPY_MODEL_757676fed1f5413c8261e8145dc16e60",
                        "_model_module": "@jupyter-widgets/controls",
                        "children": [
                            "IPY_MODEL_7d27c81c6e7b41f49d579074d3f7a3de",
                            "IPY_MODEL_c4a42c5d79bb43bd97c06e54b9e7eeef"
                        ]
                    }
                },
                "757676fed1f5413c8261e8145dc16e60": {
                    "model_module": "@jupyter-widgets/base",
                    "model_name": "LayoutModel",
                    "model_module_version": "1.2.0",
                    "state": {
                        "_view_name": "LayoutView",
                        "grid_template_rows": null,
                        "right": null,
                        "justify_content": null,
                        "_view_module": "@jupyter-widgets/base",
                        "overflow": null,
                        "_model_module_version": "1.2.0",
                        "_view_count": null,
                        "flex_flow": null,
                        "width": null,
                        "min_width": null,
                        "border": null,
                        "align_items": null,
                        "bottom": null,
                        "_model_module": "@jupyter-widgets/base",
                        "top": null,
                        "grid_column": null,
                        "overflow_y": null,
                        "overflow_x": null,
                        "grid_auto_flow": null,
                        "grid_area": null,
                        "grid_template_columns": null,
                        "flex": null,
                        "_model_name": "LayoutModel",
                        "justify_items": null,
                        "grid_row": null,
                        "max_height": null,
                        "align_content": null,
                        "visibility": null,
                        "align_self": null,
                        "height": null,
                        "min_height": null,
                        "padding": null,
                        "grid_auto_rows": null,
                        "grid_gap": null,
                        "max_width": null,
                        "order": null,
                        "_view_module_version": "1.2.0",
                        "grid_template_areas": null,
                        "object_position": null,
                        "object_fit": null,
                        "grid_auto_columns": null,
                        "margin": null,
                        "display": null,
                        "left": null
                    }
                },
                "7d27c81c6e7b41f49d579074d3f7a3de": {
                    "model_module": "@jupyter-widgets/controls",
                    "model_name": "LabelModel",
                    "model_module_version": "1.5.0",
                    "state": {
                        "_view_name": "LabelView",
                        "style": "IPY_MODEL_0b51f2839ec74772bc44e2c11dd8588c",
                        "_dom_classes": [],
                        "description": "",
                        "_model_name": "LabelModel",
                        "placeholder": "\u200b",
                        "_view_module": "@jupyter-widgets/controls",
                        "_model_module_version": "1.5.0",
                        "value": " 0.03MB of 0.03MB uploaded (0.00MB deduped)\r",
                        "_view_count": null,
                        "_view_module_version": "1.5.0",
                        "description_tooltip": null,
                        "_model_module": "@jupyter-widgets/controls",
                        "layout": "IPY_MODEL_b44a6763240548a68cfe2fe9eb341e07"
                    }
                },
                "c4a42c5d79bb43bd97c06e54b9e7eeef": {
                    "model_module": "@jupyter-widgets/controls",
                    "model_name": "FloatProgressModel",
                    "model_module_version": "1.5.0",
                    "state": {
                        "_view_name": "ProgressView",
                        "style": "IPY_MODEL_372b059dc007487887484f392a725abb",
                        "_dom_classes": [],
                        "description": "",
                        "_model_name": "FloatProgressModel",
                        "bar_style": "",
                        "max": 1,
                        "_view_module": "@jupyter-widgets/controls",
                        "_model_module_version": "1.5.0",
                        "value": 1,
                        "_view_count": null,
                        "_view_module_version": "1.5.0",
                        "orientation": "horizontal",
                        "min": 0,
                        "description_tooltip": null,
                        "_model_module": "@jupyter-widgets/controls",
                        "layout": "IPY_MODEL_fae23cb6f07141b4b5e7acfcd56af391"
                    }
                },
                "0b51f2839ec74772bc44e2c11dd8588c": {
                    "model_module": "@jupyter-widgets/controls",
                    "model_name": "DescriptionStyleModel",
                    "model_module_version": "1.5.0",
                    "state": {
                        "_view_name": "StyleView",
                        "_model_name": "DescriptionStyleModel",
                        "description_width": "",
                        "_view_module": "@jupyter-widgets/base",
                        "_model_module_version": "1.5.0",
                        "_view_count": null,
                        "_view_module_version": "1.2.0",
                        "_model_module": "@jupyter-widgets/controls"
                    }
                },
                "b44a6763240548a68cfe2fe9eb341e07": {
                    "model_module": "@jupyter-widgets/base",
                    "model_name": "LayoutModel",
                    "model_module_version": "1.2.0",
                    "state": {
                        "_view_name": "LayoutView",
                        "grid_template_rows": null,
                        "right": null,
                        "justify_content": null,
                        "_view_module": "@jupyter-widgets/base",
                        "overflow": null,
                        "_model_module_version": "1.2.0",
                        "_view_count": null,
                        "flex_flow": null,
                        "width": null,
                        "min_width": null,
                        "border": null,
                        "align_items": null,
                        "bottom": null,
                        "_model_module": "@jupyter-widgets/base",
                        "top": null,
                        "grid_column": null,
                        "overflow_y": null,
                        "overflow_x": null,
                        "grid_auto_flow": null,
                        "grid_area": null,
                        "grid_template_columns": null,
                        "flex": null,
                        "_model_name": "LayoutModel",
                        "justify_items": null,
                        "grid_row": null,
                        "max_height": null,
                        "align_content": null,
                        "visibility": null,
                        "align_self": null,
                        "height": null,
                        "min_height": null,
                        "padding": null,
                        "grid_auto_rows": null,
                        "grid_gap": null,
                        "max_width": null,
                        "order": null,
                        "_view_module_version": "1.2.0",
                        "grid_template_areas": null,
                        "object_position": null,
                        "object_fit": null,
                        "grid_auto_columns": null,
                        "margin": null,
                        "display": null,
                        "left": null
                    }
                },
                "372b059dc007487887484f392a725abb": {
                    "model_module": "@jupyter-widgets/controls",
                    "model_name": "ProgressStyleModel",
                    "model_module_version": "1.5.0",
                    "state": {
                        "_view_name": "StyleView",
                        "_model_name": "ProgressStyleModel",
                        "description_width": "",
                        "_view_module": "@jupyter-widgets/base",
                        "_model_module_version": "1.5.0",
                        "_view_count": null,
                        "_view_module_version": "1.2.0",
                        "bar_color": null,
                        "_model_module": "@jupyter-widgets/controls"
                    }
                },
                "fae23cb6f07141b4b5e7acfcd56af391": {
                    "model_module": "@jupyter-widgets/base",
                    "model_name": "LayoutModel",
                    "model_module_version": "1.2.0",
                    "state": {
                        "_view_name": "LayoutView",
                        "grid_template_rows": null,
                        "right": null,
                        "justify_content": null,
                        "_view_module": "@jupyter-widgets/base",
                        "overflow": null,
                        "_model_module_version": "1.2.0",
                        "_view_count": null,
                        "flex_flow": null,
                        "width": null,
                        "min_width": null,
                        "border": null,
                        "align_items": null,
                        "bottom": null,
                        "_model_module": "@jupyter-widgets/base",
                        "top": null,
                        "grid_column": null,
                        "overflow_y": null,
                        "overflow_x": null,
                        "grid_auto_flow": null,
                        "grid_area": null,
                        "grid_template_columns": null,
                        "flex": null,
                        "_model_name": "LayoutModel",
                        "justify_items": null,
                        "grid_row": null,
                        "max_height": null,
                        "align_content": null,
                        "visibility": null,
                        "align_self": null,
                        "height": null,
                        "min_height": null,
                        "padding": null,
                        "grid_auto_rows": null,
                        "grid_gap": null,
                        "max_width": null,
                        "order": null,
                        "_view_module_version": "1.2.0",
                        "grid_template_areas": null,
                        "object_position": null,
                        "object_fit": null,
                        "grid_auto_columns": null,
                        "margin": null,
                        "display": null,
                        "left": null
                    }
                }
            }
        }
    },
    "cells": [
        {
            "cell_type": "markdown",
            "metadata": {
                "id": "CExziYkkFVl5"
            },
            "source": [
                "# **PROXIMAL POLICY OPTIMIZATION**\n",
                "\n",
                "**Lab exercise created by [Juan Jos\u00e9 Nieto](https://www.linkedin.com/in/juan-jose-nieto-salas/) for the [Postgraduate course in Artificial Intelligence with Deep Learning](https://www.talent.upc.edu/ing/estudis/formacio/curs/310400/postgrau-artificial-intelligence-deep-learning/) at [UPC School](https://www.talent.upc.edu/ing/) (2021).**\n",
                "\n",
                "(This version is adapted for a short lab)\n"
            ]
        },
        {
            "cell_type": "markdown",
            "metadata": {
                "id": "8X0JMdvPhCM8"
            },
            "source": [
                "# Installing dependencies"
            ]
        },
        {
            "cell_type": "code",
            "metadata": {},
            "source": [
                "!pip install swig --quiet\n",
                "!pip install gym[box2d]==0.17.3 --quiet\n",
                "!pip install Box2D wandb --quiet\n",
                "\n",
                "# install utilities for rendering OpenAI Gym videos in Colab\n",
                "!apt-get -qq install -y xvfb x11-utils\n",
                "!sudo apt -qq install -y python3-opengl\n",
                "!pip install pyvirtualdisplay==0.2.* \\\n",
                "             PyOpenGL==3.1.* \\\n",
                "             PyOpenGL-accelerate==3.1.* \\\n",
                "             box2d-kengz \\\n",
                "             --quiet\n"
            ],
            "execution_count": null,
            "outputs": []
        },
        {
            "cell_type": "markdown",
            "metadata": {
                "id": "PzQyazSWhEtK"
            },
            "source": [
                "# Setting up the environment"
            ]
        },
        {
            "cell_type": "code",
            "metadata": {},
            "source": [
                "import base64\n",
                "import glob\n",
                "import io\n",
                "import os\n",
                "import math\n",
                "import timeit\n",
                "import warnings\n",
                "\n",
                "from IPython.display import HTML\n",
                "from IPython.display import display"
            ],
            "execution_count": null,
            "outputs": []
        },
        {
            "cell_type": "code",
            "metadata": {},
            "source": [
                "import gym\n",
                "import wandb\n",
                "import random\n",
                "\n",
                "import numpy as np\n",
                "from random import randint\n",
                "from collections import namedtuple"
            ],
            "execution_count": null,
            "outputs": []
        },
        {
            "cell_type": "code",
            "metadata": {},
            "source": [
                "import torch\n",
                "import torch.nn as nn\n",
                "import torch.nn.functional as F\n",
                "\n",
                "from torch.distributions import Categorical\n",
                "from torch.utils.data.sampler import BatchSampler, SubsetRandomSampler"
            ],
            "execution_count": null,
            "outputs": []
        },
        {
            "cell_type": "code",
            "metadata": {},
            "source": [
                "# starting a fake screen in the background\n",
                "#  in order to render videos\n",
                "os.system(\"Xvfb :1 -screen 0 1024x768x24 &\")\n",
                "os.environ[\"DISPLAY\"] = \":1\"\n",
                "\n",
                "# utility to get video file from directory\n",
                "def get_video_filename(dir=\"video\"):\n",
                "  glob_mp4 = os.path.join(dir, \"*.mp4\") \n",
                "  mp4list = glob.glob(glob_mp4)\n",
                "  assert len(mp4list) > 0, \"couldnt find video files\"\n",
                "  return mp4list[-1]"
            ],
            "execution_count": null,
            "outputs": []
        },
        {
            "cell_type": "markdown",
            "metadata": {
                "id": "HqX5C4y9CqYI"
            },
            "source": [
                "# Random Agent"
            ]
        },
        {
            "cell_type": "code",
            "metadata": {},
            "source": [
                "env = gym.make(\"LunarLander-v2\")\n",
                "\n",
                "test_env = gym.wrappers.Monitor(env, \"./video\", force=True)\n",
                "\n",
                "ob, done, total_rew = test_env.reset(), False, 0\n",
                "\n",
                "\n",
                "while not done:\n",
                "  test_env.render()\n",
                "  ac = test_env.action_space.sample()\n",
                "  ob, rew, done, info = test_env.step(ac)\n",
                "  total_rew += rew\n",
                "  \n",
                "print('Cumulative reward:', total_rew)\n",
                "  \n",
                "test_env.close()"
            ],
            "execution_count": null,
            "outputs": []
        },
        {
            "cell_type": "code",
            "metadata": {},
            "source": [
                "wandb.login()"
            ],
            "execution_count": null,
            "outputs": []
        },
        {
            "cell_type": "markdown",
            "metadata": {
                "id": "PayBHx0o001d"
            },
            "source": [
                "# Visualize random policy in Wandb"
            ]
        },
        {
            "cell_type": "code",
            "metadata": {},
            "source": [
                "PROJECT = \"AIDL-Spring-DRL\""
            ],
            "execution_count": null,
            "outputs": []
        },
        {
            "cell_type": "code",
            "metadata": {},
            "source": [
                "wandb.init(project=PROJECT)\n",
                "wandb.run.name = 'lunarlander_random_agent'\n",
                "mp4 = get_video_filename()\n",
                "wandb.log({\"Video eval\": wandb.Video(mp4, fps=4, format=\"mp4\")})\n",
                "wandb.finish()"
            ],
            "execution_count": null,
            "outputs": []
        },
        {
            "cell_type": "markdown",
            "metadata": {
                "id": "7IPb1a_T04rP"
            },
            "source": [
                "# Create the model\n",
                "PPO is an optimization algorithm that uses the actor-critic framework as in the previous lab. For this reason, we instantiate two branches, one for the action log probabilities and the other for estimating a state value."
            ]
        },
        {
            "cell_type": "code",
            "metadata": {},
            "source": [
                "class Agent(nn.Module):\n",
                "    def __init__(self, obs_len, act_len):\n",
                "        super(Agent, self).__init__()\n",
                "        \n",
                "        self.obs_len = obs_len\n",
                "        self.act_len = act_len\n",
                "\n",
                "        self.mlp = nn.Sequential(\n",
                "            nn.Linear(obs_len, 64),\n",
                "            nn.ReLU(),\n",
                "            nn.Linear(64, 128),\n",
                "            nn.ReLU()\n",
                "        )\n",
                "\n",
                "        self.actor = nn.Linear(128, act_len)\n",
                "        self.critic = nn.Linear(128, 1)\n",
                "\n",
                "\n",
                "    def forward(self, state):\n",
                "        out = self.mlp(state)\n",
                "        action_scores = self.actor(out)\n",
                "        state_value = self.critic(out)\n",
                "        return F.softmax(action_scores, dim=1), state_value\n",
                "\n",
                "    def compute_action(self, state):\n",
                "        state = torch.from_numpy(state).float().unsqueeze(0)\n",
                "        probs, state_value = self(state)\n",
                "\n",
                "        m = torch.distributions.Categorical(probs)\n",
                "        action = m.sample()\n",
                "        \n",
                "        return action.item(), m.log_prob(action).item(), state_value.item()\n"
            ],
            "execution_count": null,
            "outputs": []
        },
        {
            "cell_type": "markdown",
            "metadata": {
                "id": "LFjk_O0g2__r"
            },
            "source": [
                "# Replay memory\n",
                "Similar to DQN, now we can train again with old transitions that are going to be stored in a buffer."
            ]
        },
        {
            "cell_type": "code",
            "metadata": {},
            "source": [
                "transition = np.dtype([('s', np.float64, (8,)), ('a', np.float64), ('a_logp', np.float64),\n",
                "                       ('r', np.float64), ('s_', np.float64, (8,))])\n",
                "\n",
                "\n",
                "class ReplayMemory():\n",
                "    def __init__(self, capacity):\n",
                "        self.buffer_capacity = capacity\n",
                "        self.buffer = np.empty(capacity, dtype=transition)\n",
                "        self.counter = 0\n",
                "\n",
                "    # Stores a transition and returns True or False depending on whether the buffer is full or not\n",
                "    def store(self, transition):\n",
                "        self.buffer[self.counter] = transition\n",
                "        self.counter += 1\n",
                "        if self.counter == self.buffer_capacity:\n",
                "            self.counter = 0\n",
                "            return True\n",
                "        else:\n",
                "            return False"
            ],
            "execution_count": null,
            "outputs": []
        },
        {
            "cell_type": "code",
            "execution_count": null,
            "outputs": [],
            "source": [
                "def compute_returns_and_advantages(rewards, values, gamma):\n",
                "    # Initializing returns and advantages tensors\n",
                "    returns = torch.zeros_like(rewards)\n",
                "    advantages = torch.zeros_like(rewards)\n",
                "    \n",
                "    # Initializing the variable for the next value\n",
                "    next_value = 0\n",
                "    next_advantage = 0\n",
                "\n",
                "    for t in reversed(range(len(rewards))):\n",
                "        # Compute returns: G_t = R_t + gamma * G_{t+1}\n",
                "        returns[t] = rewards[t] + gamma * next_value\n",
                "        next_value = returns[t]\n",
                "\n",
                "        advantages[t] = returns[t] - values[t]\n",
                "\n",
                "    # Normalize advantages and returns\n",
                "    returns = (returns - returns.mean()) / (returns.std() + 1e-10)\n",
                "    advantages = (advantages - advantages.mean()) / (advantages.std() + 1e-10)\n",
                "\n",
                "    return returns, advantages"
            ],
            "metadata": {}
        },
        {
            "cell_type": "markdown",
            "metadata": {
                "id": "7n-ck5fN30m6"
            },
            "source": [
                "**Exercise 1: Compute the ratio between the new and the old policy.**\n",
                "\n",
                "**Exercise 2: Modify the surrogate objective by clipping the probability ratio.**\n",
                "\n",
                "**Exercise 3: Compute the loss function weighting each term correspondingly.**\n"
            ]
        },
        {
            "cell_type": "code",
            "metadata": {},
            "source": [
                "def train(policy, optimizer, memory, hparams):\n",
                "\n",
                "    gamma = hparams['gamma']\n",
                "    ppo_epoch = hparams['ppo_epoch']\n",
                "    batch_size = hparams['batch_size']\n",
                "    clip_param = hparams['clip_param']\n",
                "    c1 = hparams['c1']\n",
                "    c2 = hparams['c2']\n",
                "\n",
                "\n",
                "    s = torch.tensor(memory.buffer['s'], dtype=torch.float)\n",
                "    a = torch.tensor(memory.buffer['a'], dtype=torch.float)\n",
                "    r = torch.tensor(memory.buffer['r'], dtype=torch.float).view(-1, 1)\n",
                "    s_ = torch.tensor(memory.buffer['s_'], dtype=torch.float)\n",
                "\n",
                "    old_a_logp = torch.tensor(memory.buffer['a_logp'], dtype=torch.float).view(-1, 1)\n",
                "\n",
                "\n",
                "    with torch.no_grad():\n",
                "        value_pred = policy(s)[1]\n",
                "        returns, advantages = compute_returns_and_advantages(r, value_pred, gamma)\n",
                "\n",
                "    for _ in range(ppo_epoch):\n",
                "        probs, _ = policy(s)\n",
                "        dist = Categorical(probs)\n",
                "        entropy = dist.entropy()\n",
                "        \n",
                "        a_logp = dist.log_prob(a).unsqueeze(dim=1)\n",
                "\n",
                "        # TODO: Compute ratio. Hint: pi/pi_old = e^(ln pi - ln pi_old)\n",
                "        ratio = ...\n",
                "\n",
                "        surr1 = ratio * advantages\n",
                "\n",
                "        # TODO: Modify the surrogate objective by clipping the probability ratio.\n",
                "        # Hint: Use the torch.clamp function and the clip_param variable\n",
                "        surr2 = TODO * advantages\n",
                "\n",
                "        policy_loss = torch.min(surr1, surr2).mean()\n",
                "        value_loss = F.smooth_l1_loss(policy(s)[1], returns)\n",
                "        entropy = entropy.mean()\n",
                "\n",
                "        # TODO: Compute the loss function weighting each term correspondingly.\n",
                "        # Take into account the needed signs for each term!\n",
                "        loss = ...\n",
                "\n",
                "        optimizer.zero_grad()\n",
                "        loss.backward()\n",
                "        optimizer.step()\n",
                "\n",
                "\n",
                "    return -policy_loss.item(), value_loss.item(), entropy.item(), ratio.mean().item()\n",
                "\n",
                "def test(env, policy, render=False):\n",
                "    state, ep_reward, done = env.reset(), 0, False\n",
                "    while not done:\n",
                "        env.render()\n",
                "        action, _, _ = policy.compute_action(state)\n",
                "        state, reward, done, _ = env.step(action)\n",
                "        ep_reward += reward\n",
                "\n",
                "    env.close()\n",
                "    mp4 = get_video_filename()\n",
                "    wandb.log({\"Video eval\": wandb.Video(mp4, fps=4, format=\"mp4\")})\n",
                "    return ep_reward"
            ],
            "execution_count": null,
            "outputs": []
        },
        {
            "cell_type": "markdown",
            "metadata": {
                "id": "0TPjGR9HNNXl"
            },
            "source": [
                "## Hyperparameters\n",
                "\n",
                "These values were found running a sweep over some hyperparameters.\n",
                "\n",
                "In this [Colab](https://colab.research.google.com/drive/1A3yA_jAiPKi3H7YDSYJekl64Vz7JxhDi?usp=sharing) you will find the code used to execute it. And in this [report](https://wandb.ai/juanjo3ns/lunar-lander/reports/Hyperparameter-Sweeping-in-PPO-LunarLander--Vmlldzo3NjA0MDY?accessToken=ibdz6huvu28hl5wv53szeurltq481riu5wexihxqek645b1ymr27jilpo5xili4y) you can see the results of these runs."
            ]
        },
        {
            "cell_type": "code",
            "metadata": {},
            "source": [
                "hparams = {\n",
                "    'gamma' : 0.99,\n",
                "    'log_interval' : 100,\n",
                "    'num_episodes': 2000,\n",
                "    'lr' : 1e-3,\n",
                "    'clip_param': 0.1,\n",
                "    'ppo_epoch': 10,\n",
                "    'replay_size': 930,\n",
                "    'batch_size': 128,\n",
                "    'c1': 1.,\n",
                "    'c2': 0.021\n",
                "}\n"
            ],
            "execution_count": null,
            "outputs": []
        },
        {
            "cell_type": "code",
            "metadata": {},
            "source": [
                "# Create environment\n",
                "env_name = \"LunarLander-v2\"\n",
                "env = gym.make(env_name)"
            ],
            "execution_count": null,
            "outputs": []
        },
        {
            "cell_type": "code",
            "metadata": {},
            "source": [
                "# Get number of actions from gym action space\n",
                "n_inputs = env.observation_space.shape[0]\n",
                "n_actions = env.action_space.n"
            ],
            "execution_count": null,
            "outputs": []
        },
        {
            "cell_type": "code",
            "metadata": {},
            "source": [
                "# Fix random seed (for reproducibility)\n",
                "seed=0\n",
                "env.seed(seed)\n",
                "random.seed(seed)\n",
                "torch.manual_seed(seed)\n",
                "torch.cuda.manual_seed(seed)\n",
                "\n",
                "# Initialize wandb run\n",
                "wandb.finish() # execute to avoid overlapping runnings (advice: later remove duplicates in wandb)\n",
                "wandb.init(project=PROJECT, config=hparams)\n",
                "wandb.run.name = 'ppo_lunarlander_train_0'\n",
                "\n",
                "\n",
                "# Create policy and optimizer\n",
                "policy = Agent(n_inputs, n_actions)\n",
                "optimizer = torch.optim.Adam(policy.parameters(), lr=hparams['lr'])\n",
                "\n",
                "eps = np.finfo(np.float32).eps.item()\n",
                "memory = ReplayMemory(hparams['replay_size'])\n",
                "\n",
                "# Training loop\n",
                "print(\"Target reward: {}\".format(env.spec.reward_threshold))\n",
                "running_reward = -100\n",
                "ep_rew_history_reinforce = []\n",
                "for i_episode in range(hparams['num_episodes']):\n",
                "    # Collect experience\n",
                "    state, ep_reward, done = env.reset(), 0, False\n",
                "\n",
                "    while not done:  # Don't infinite loop while learning\n",
                "        action, a_logp, state_value = policy.compute_action(state)\n",
                "        next_state, reward, done, _ = env.step(action)\n",
                "        \n",
                "\n",
                "        if memory.store((state, action, a_logp, reward, next_state)):\n",
                "            policy_loss, value_loss, avg_entropy, ratio = train(policy, optimizer, memory, hparams)\n",
                "            wandb.log(\n",
                "                {\n",
                "                'policy_loss': policy_loss,\n",
                "                'value_loss': value_loss,\n",
                "                'running_reward': running_reward,\n",
                "                'mean_entropy': avg_entropy,\n",
                "                'ratio': ratio\n",
                "                })\n",
                "\n",
                "\n",
                "        state = next_state\n",
                "\n",
                "        ep_reward += reward\n",
                "        if done:\n",
                "            break\n",
                "\n",
                "    # Update running reward\n",
                "    running_reward = 0.05 * ep_reward + (1 - 0.05) * running_reward\n",
                "    \n",
                "    \n",
                "    ep_rew_history_reinforce.append((i_episode, ep_reward))\n",
                "    if i_episode % hparams['log_interval'] == 0:\n",
                "        print(f'Episode {i_episode}\\tLast reward: {ep_reward:.2f}\\tAverage reward: {running_reward:.2f}')\n",
                "\n",
                "    if running_reward > env.spec.reward_threshold:\n",
                "        print(\"Solved!\")\n",
                "        break\n",
                "\n",
                "print(f\"Finished training! Running reward is now {running_reward}\")\n",
                "test_env = gym.wrappers.Monitor(env, \"./video\", force=True)\n",
                "ep_reward = test(test_env, policy)\n",
                "wandb.finish()"
            ],
            "execution_count": null,
            "outputs": []
        },
        {
            "cell_type": "code",
            "metadata": {},
            "source": [],
            "execution_count": null,
            "outputs": []
        }
    ]
}
